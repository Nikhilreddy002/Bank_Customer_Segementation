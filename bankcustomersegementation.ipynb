{
 "cells": [
  {
   "cell_type": "code",
   "execution_count": 1,
   "id": "06ce71e4",
   "metadata": {
    "_cell_guid": "b1076dfc-b9ad-4769-8c92-a6c4dae69d19",
    "_uuid": "8f2839f25d086af736a60e9eeb907d3b93b6e0e5",
    "execution": {
     "iopub.execute_input": "2023-11-10T15:55:21.748447Z",
     "iopub.status.busy": "2023-11-10T15:55:21.747969Z",
     "iopub.status.idle": "2023-11-10T15:55:22.730796Z",
     "shell.execute_reply": "2023-11-10T15:55:22.728595Z"
    },
    "papermill": {
     "duration": 1.003993,
     "end_time": "2023-11-10T15:55:22.734483",
     "exception": false,
     "start_time": "2023-11-10T15:55:21.730490",
     "status": "completed"
    },
    "tags": []
   },
   "outputs": [
    {
     "name": "stdout",
     "output_type": "stream",
     "text": [
      "/kaggle/input/bank-customer-segmentation/bank_transactions.csv\n"
     ]
    }
   ],
   "source": [
    "# This Python 3 environment comes with many helpful analytics libraries installed\n",
    "# It is defined by the kaggle/python Docker image: https://github.com/kaggle/docker-python\n",
    "# For example, here's several helpful packages to load\n",
    "\n",
    "import numpy as np # linear algebra\n",
    "import pandas as pd # data processing, CSV file I/O (e.g. pd.read_csv)\n",
    "\n",
    "# Input data files are available in the read-only \"../input/\" directory\n",
    "# For example, running this (by clicking run or pressing Shift+Enter) will list all files under the input directory\n",
    "\n",
    "import os\n",
    "for dirname, _, filenames in os.walk('/kaggle/input'):\n",
    "    for filename in filenames:\n",
    "        print(os.path.join(dirname, filename))\n",
    "\n",
    "# You can write up to 20GB to the current directory (/kaggle/working/) that gets preserved as output when you create a version using \"Save & Run All\" \n",
    "# You can also write temporary files to /kaggle/temp/, but they won't be saved outside of the current session"
   ]
  },
  {
   "cell_type": "code",
   "execution_count": 2,
   "id": "b3ab96e5",
   "metadata": {
    "execution": {
     "iopub.execute_input": "2023-11-10T15:55:22.771075Z",
     "iopub.status.busy": "2023-11-10T15:55:22.770384Z",
     "iopub.status.idle": "2023-11-10T15:55:27.091885Z",
     "shell.execute_reply": "2023-11-10T15:55:27.090356Z"
    },
    "papermill": {
     "duration": 4.343858,
     "end_time": "2023-11-10T15:55:27.095527",
     "exception": false,
     "start_time": "2023-11-10T15:55:22.751669",
     "status": "completed"
    },
    "tags": []
   },
   "outputs": [
    {
     "data": {
      "text/html": [
       "<div>\n",
       "<style scoped>\n",
       "    .dataframe tbody tr th:only-of-type {\n",
       "        vertical-align: middle;\n",
       "    }\n",
       "\n",
       "    .dataframe tbody tr th {\n",
       "        vertical-align: top;\n",
       "    }\n",
       "\n",
       "    .dataframe thead th {\n",
       "        text-align: right;\n",
       "    }\n",
       "</style>\n",
       "<table border=\"1\" class=\"dataframe\">\n",
       "  <thead>\n",
       "    <tr style=\"text-align: right;\">\n",
       "      <th></th>\n",
       "      <th>TransactionID</th>\n",
       "      <th>CustomerID</th>\n",
       "      <th>CustomerDOB</th>\n",
       "      <th>CustGender</th>\n",
       "      <th>CustLocation</th>\n",
       "      <th>CustAccountBalance</th>\n",
       "      <th>TransactionDate</th>\n",
       "      <th>TransactionTime</th>\n",
       "      <th>TransactionAmount (INR)</th>\n",
       "    </tr>\n",
       "  </thead>\n",
       "  <tbody>\n",
       "    <tr>\n",
       "      <th>0</th>\n",
       "      <td>T1</td>\n",
       "      <td>C5841053</td>\n",
       "      <td>10/1/94</td>\n",
       "      <td>F</td>\n",
       "      <td>JAMSHEDPUR</td>\n",
       "      <td>17819.05</td>\n",
       "      <td>2/8/16</td>\n",
       "      <td>143207</td>\n",
       "      <td>25.0</td>\n",
       "    </tr>\n",
       "    <tr>\n",
       "      <th>1</th>\n",
       "      <td>T2</td>\n",
       "      <td>C2142763</td>\n",
       "      <td>4/4/57</td>\n",
       "      <td>M</td>\n",
       "      <td>JHAJJAR</td>\n",
       "      <td>2270.69</td>\n",
       "      <td>2/8/16</td>\n",
       "      <td>141858</td>\n",
       "      <td>27999.0</td>\n",
       "    </tr>\n",
       "    <tr>\n",
       "      <th>2</th>\n",
       "      <td>T3</td>\n",
       "      <td>C4417068</td>\n",
       "      <td>26/11/96</td>\n",
       "      <td>F</td>\n",
       "      <td>MUMBAI</td>\n",
       "      <td>17874.44</td>\n",
       "      <td>2/8/16</td>\n",
       "      <td>142712</td>\n",
       "      <td>459.0</td>\n",
       "    </tr>\n",
       "    <tr>\n",
       "      <th>3</th>\n",
       "      <td>T4</td>\n",
       "      <td>C5342380</td>\n",
       "      <td>14/9/73</td>\n",
       "      <td>F</td>\n",
       "      <td>MUMBAI</td>\n",
       "      <td>866503.21</td>\n",
       "      <td>2/8/16</td>\n",
       "      <td>142714</td>\n",
       "      <td>2060.0</td>\n",
       "    </tr>\n",
       "    <tr>\n",
       "      <th>4</th>\n",
       "      <td>T5</td>\n",
       "      <td>C9031234</td>\n",
       "      <td>24/3/88</td>\n",
       "      <td>F</td>\n",
       "      <td>NAVI MUMBAI</td>\n",
       "      <td>6714.43</td>\n",
       "      <td>2/8/16</td>\n",
       "      <td>181156</td>\n",
       "      <td>1762.5</td>\n",
       "    </tr>\n",
       "    <tr>\n",
       "      <th>...</th>\n",
       "      <td>...</td>\n",
       "      <td>...</td>\n",
       "      <td>...</td>\n",
       "      <td>...</td>\n",
       "      <td>...</td>\n",
       "      <td>...</td>\n",
       "      <td>...</td>\n",
       "      <td>...</td>\n",
       "      <td>...</td>\n",
       "    </tr>\n",
       "    <tr>\n",
       "      <th>1048562</th>\n",
       "      <td>T1048563</td>\n",
       "      <td>C8020229</td>\n",
       "      <td>8/4/90</td>\n",
       "      <td>M</td>\n",
       "      <td>NEW DELHI</td>\n",
       "      <td>7635.19</td>\n",
       "      <td>18/9/16</td>\n",
       "      <td>184824</td>\n",
       "      <td>799.0</td>\n",
       "    </tr>\n",
       "    <tr>\n",
       "      <th>1048563</th>\n",
       "      <td>T1048564</td>\n",
       "      <td>C6459278</td>\n",
       "      <td>20/2/92</td>\n",
       "      <td>M</td>\n",
       "      <td>NASHIK</td>\n",
       "      <td>27311.42</td>\n",
       "      <td>18/9/16</td>\n",
       "      <td>183734</td>\n",
       "      <td>460.0</td>\n",
       "    </tr>\n",
       "    <tr>\n",
       "      <th>1048564</th>\n",
       "      <td>T1048565</td>\n",
       "      <td>C6412354</td>\n",
       "      <td>18/5/89</td>\n",
       "      <td>M</td>\n",
       "      <td>HYDERABAD</td>\n",
       "      <td>221757.06</td>\n",
       "      <td>18/9/16</td>\n",
       "      <td>183313</td>\n",
       "      <td>770.0</td>\n",
       "    </tr>\n",
       "    <tr>\n",
       "      <th>1048565</th>\n",
       "      <td>T1048566</td>\n",
       "      <td>C6420483</td>\n",
       "      <td>30/8/78</td>\n",
       "      <td>M</td>\n",
       "      <td>VISAKHAPATNAM</td>\n",
       "      <td>10117.87</td>\n",
       "      <td>18/9/16</td>\n",
       "      <td>184706</td>\n",
       "      <td>1000.0</td>\n",
       "    </tr>\n",
       "    <tr>\n",
       "      <th>1048566</th>\n",
       "      <td>T1048567</td>\n",
       "      <td>C8337524</td>\n",
       "      <td>5/3/84</td>\n",
       "      <td>M</td>\n",
       "      <td>PUNE</td>\n",
       "      <td>75734.42</td>\n",
       "      <td>18/9/16</td>\n",
       "      <td>181222</td>\n",
       "      <td>1166.0</td>\n",
       "    </tr>\n",
       "  </tbody>\n",
       "</table>\n",
       "<p>1048567 rows × 9 columns</p>\n",
       "</div>"
      ],
      "text/plain": [
       "        TransactionID CustomerID CustomerDOB CustGender   CustLocation  \\\n",
       "0                  T1   C5841053     10/1/94          F     JAMSHEDPUR   \n",
       "1                  T2   C2142763      4/4/57          M        JHAJJAR   \n",
       "2                  T3   C4417068    26/11/96          F         MUMBAI   \n",
       "3                  T4   C5342380     14/9/73          F         MUMBAI   \n",
       "4                  T5   C9031234     24/3/88          F    NAVI MUMBAI   \n",
       "...               ...        ...         ...        ...            ...   \n",
       "1048562      T1048563   C8020229      8/4/90          M      NEW DELHI   \n",
       "1048563      T1048564   C6459278     20/2/92          M         NASHIK   \n",
       "1048564      T1048565   C6412354     18/5/89          M      HYDERABAD   \n",
       "1048565      T1048566   C6420483     30/8/78          M  VISAKHAPATNAM   \n",
       "1048566      T1048567   C8337524      5/3/84          M           PUNE   \n",
       "\n",
       "         CustAccountBalance TransactionDate  TransactionTime  \\\n",
       "0                  17819.05          2/8/16           143207   \n",
       "1                   2270.69          2/8/16           141858   \n",
       "2                  17874.44          2/8/16           142712   \n",
       "3                 866503.21          2/8/16           142714   \n",
       "4                   6714.43          2/8/16           181156   \n",
       "...                     ...             ...              ...   \n",
       "1048562             7635.19         18/9/16           184824   \n",
       "1048563            27311.42         18/9/16           183734   \n",
       "1048564           221757.06         18/9/16           183313   \n",
       "1048565            10117.87         18/9/16           184706   \n",
       "1048566            75734.42         18/9/16           181222   \n",
       "\n",
       "         TransactionAmount (INR)  \n",
       "0                           25.0  \n",
       "1                        27999.0  \n",
       "2                          459.0  \n",
       "3                         2060.0  \n",
       "4                         1762.5  \n",
       "...                          ...  \n",
       "1048562                    799.0  \n",
       "1048563                    460.0  \n",
       "1048564                    770.0  \n",
       "1048565                   1000.0  \n",
       "1048566                   1166.0  \n",
       "\n",
       "[1048567 rows x 9 columns]"
      ]
     },
     "execution_count": 2,
     "metadata": {},
     "output_type": "execute_result"
    }
   ],
   "source": [
    "df=pd.read_csv(\"/kaggle/input/bank-customer-segmentation/bank_transactions.csv\")\n",
    "df"
   ]
  },
  {
   "cell_type": "code",
   "execution_count": 3,
   "id": "90d70c6f",
   "metadata": {
    "execution": {
     "iopub.execute_input": "2023-11-10T15:55:27.129494Z",
     "iopub.status.busy": "2023-11-10T15:55:27.129038Z",
     "iopub.status.idle": "2023-11-10T15:55:27.148353Z",
     "shell.execute_reply": "2023-11-10T15:55:27.146937Z"
    },
    "papermill": {
     "duration": 0.039959,
     "end_time": "2023-11-10T15:55:27.151062",
     "exception": false,
     "start_time": "2023-11-10T15:55:27.111103",
     "status": "completed"
    },
    "tags": []
   },
   "outputs": [
    {
     "data": {
      "text/html": [
       "<div>\n",
       "<style scoped>\n",
       "    .dataframe tbody tr th:only-of-type {\n",
       "        vertical-align: middle;\n",
       "    }\n",
       "\n",
       "    .dataframe tbody tr th {\n",
       "        vertical-align: top;\n",
       "    }\n",
       "\n",
       "    .dataframe thead th {\n",
       "        text-align: right;\n",
       "    }\n",
       "</style>\n",
       "<table border=\"1\" class=\"dataframe\">\n",
       "  <thead>\n",
       "    <tr style=\"text-align: right;\">\n",
       "      <th></th>\n",
       "      <th>TransactionID</th>\n",
       "      <th>CustomerID</th>\n",
       "      <th>CustomerDOB</th>\n",
       "      <th>CustGender</th>\n",
       "      <th>CustLocation</th>\n",
       "      <th>CustAccountBalance</th>\n",
       "      <th>TransactionDate</th>\n",
       "      <th>TransactionTime</th>\n",
       "      <th>TransactionAmount (INR)</th>\n",
       "    </tr>\n",
       "  </thead>\n",
       "  <tbody>\n",
       "    <tr>\n",
       "      <th>0</th>\n",
       "      <td>T1</td>\n",
       "      <td>C5841053</td>\n",
       "      <td>10/1/94</td>\n",
       "      <td>F</td>\n",
       "      <td>JAMSHEDPUR</td>\n",
       "      <td>17819.05</td>\n",
       "      <td>2/8/16</td>\n",
       "      <td>143207</td>\n",
       "      <td>25.0</td>\n",
       "    </tr>\n",
       "    <tr>\n",
       "      <th>1</th>\n",
       "      <td>T2</td>\n",
       "      <td>C2142763</td>\n",
       "      <td>4/4/57</td>\n",
       "      <td>M</td>\n",
       "      <td>JHAJJAR</td>\n",
       "      <td>2270.69</td>\n",
       "      <td>2/8/16</td>\n",
       "      <td>141858</td>\n",
       "      <td>27999.0</td>\n",
       "    </tr>\n",
       "    <tr>\n",
       "      <th>2</th>\n",
       "      <td>T3</td>\n",
       "      <td>C4417068</td>\n",
       "      <td>26/11/96</td>\n",
       "      <td>F</td>\n",
       "      <td>MUMBAI</td>\n",
       "      <td>17874.44</td>\n",
       "      <td>2/8/16</td>\n",
       "      <td>142712</td>\n",
       "      <td>459.0</td>\n",
       "    </tr>\n",
       "    <tr>\n",
       "      <th>3</th>\n",
       "      <td>T4</td>\n",
       "      <td>C5342380</td>\n",
       "      <td>14/9/73</td>\n",
       "      <td>F</td>\n",
       "      <td>MUMBAI</td>\n",
       "      <td>866503.21</td>\n",
       "      <td>2/8/16</td>\n",
       "      <td>142714</td>\n",
       "      <td>2060.0</td>\n",
       "    </tr>\n",
       "    <tr>\n",
       "      <th>4</th>\n",
       "      <td>T5</td>\n",
       "      <td>C9031234</td>\n",
       "      <td>24/3/88</td>\n",
       "      <td>F</td>\n",
       "      <td>NAVI MUMBAI</td>\n",
       "      <td>6714.43</td>\n",
       "      <td>2/8/16</td>\n",
       "      <td>181156</td>\n",
       "      <td>1762.5</td>\n",
       "    </tr>\n",
       "  </tbody>\n",
       "</table>\n",
       "</div>"
      ],
      "text/plain": [
       "  TransactionID CustomerID CustomerDOB CustGender CustLocation  \\\n",
       "0            T1   C5841053     10/1/94          F   JAMSHEDPUR   \n",
       "1            T2   C2142763      4/4/57          M      JHAJJAR   \n",
       "2            T3   C4417068    26/11/96          F       MUMBAI   \n",
       "3            T4   C5342380     14/9/73          F       MUMBAI   \n",
       "4            T5   C9031234     24/3/88          F  NAVI MUMBAI   \n",
       "\n",
       "   CustAccountBalance TransactionDate  TransactionTime  \\\n",
       "0            17819.05          2/8/16           143207   \n",
       "1             2270.69          2/8/16           141858   \n",
       "2            17874.44          2/8/16           142712   \n",
       "3           866503.21          2/8/16           142714   \n",
       "4             6714.43          2/8/16           181156   \n",
       "\n",
       "   TransactionAmount (INR)  \n",
       "0                     25.0  \n",
       "1                  27999.0  \n",
       "2                    459.0  \n",
       "3                   2060.0  \n",
       "4                   1762.5  "
      ]
     },
     "execution_count": 3,
     "metadata": {},
     "output_type": "execute_result"
    }
   ],
   "source": [
    "df.head()"
   ]
  },
  {
   "cell_type": "code",
   "execution_count": 4,
   "id": "10bdfe4e",
   "metadata": {
    "execution": {
     "iopub.execute_input": "2023-11-10T15:55:27.184920Z",
     "iopub.status.busy": "2023-11-10T15:55:27.184415Z",
     "iopub.status.idle": "2023-11-10T15:55:27.845152Z",
     "shell.execute_reply": "2023-11-10T15:55:27.843682Z"
    },
    "papermill": {
     "duration": 0.68187,
     "end_time": "2023-11-10T15:55:27.848410",
     "exception": false,
     "start_time": "2023-11-10T15:55:27.166540",
     "status": "completed"
    },
    "tags": []
   },
   "outputs": [
    {
     "data": {
      "text/plain": [
       "TransactionID                 0\n",
       "CustomerID                    0\n",
       "CustomerDOB                3397\n",
       "CustGender                 1100\n",
       "CustLocation                151\n",
       "CustAccountBalance         2369\n",
       "TransactionDate               0\n",
       "TransactionTime               0\n",
       "TransactionAmount (INR)       0\n",
       "dtype: int64"
      ]
     },
     "execution_count": 4,
     "metadata": {},
     "output_type": "execute_result"
    }
   ],
   "source": [
    "df.isnull().sum()"
   ]
  },
  {
   "cell_type": "code",
   "execution_count": 5,
   "id": "393bd38f",
   "metadata": {
    "execution": {
     "iopub.execute_input": "2023-11-10T15:55:27.886888Z",
     "iopub.status.busy": "2023-11-10T15:55:27.886449Z",
     "iopub.status.idle": "2023-11-10T15:55:28.566057Z",
     "shell.execute_reply": "2023-11-10T15:55:28.564365Z"
    },
    "papermill": {
     "duration": 0.703124,
     "end_time": "2023-11-10T15:55:28.569224",
     "exception": false,
     "start_time": "2023-11-10T15:55:27.866100",
     "status": "completed"
    },
    "tags": []
   },
   "outputs": [
    {
     "name": "stdout",
     "output_type": "stream",
     "text": [
      "<class 'pandas.core.frame.DataFrame'>\n",
      "RangeIndex: 1048567 entries, 0 to 1048566\n",
      "Data columns (total 9 columns):\n",
      " #   Column                   Non-Null Count    Dtype  \n",
      "---  ------                   --------------    -----  \n",
      " 0   TransactionID            1048567 non-null  object \n",
      " 1   CustomerID               1048567 non-null  object \n",
      " 2   CustomerDOB              1045170 non-null  object \n",
      " 3   CustGender               1047467 non-null  object \n",
      " 4   CustLocation             1048416 non-null  object \n",
      " 5   CustAccountBalance       1046198 non-null  float64\n",
      " 6   TransactionDate          1048567 non-null  object \n",
      " 7   TransactionTime          1048567 non-null  int64  \n",
      " 8   TransactionAmount (INR)  1048567 non-null  float64\n",
      "dtypes: float64(2), int64(1), object(6)\n",
      "memory usage: 72.0+ MB\n"
     ]
    }
   ],
   "source": [
    "df.info()"
   ]
  },
  {
   "cell_type": "code",
   "execution_count": 6,
   "id": "778ed7a8",
   "metadata": {
    "execution": {
     "iopub.execute_input": "2023-11-10T15:55:28.603656Z",
     "iopub.status.busy": "2023-11-10T15:55:28.603287Z",
     "iopub.status.idle": "2023-11-10T15:55:31.111494Z",
     "shell.execute_reply": "2023-11-10T15:55:31.110036Z"
    },
    "papermill": {
     "duration": 2.529251,
     "end_time": "2023-11-10T15:55:31.114604",
     "exception": false,
     "start_time": "2023-11-10T15:55:28.585353",
     "status": "completed"
    },
    "tags": []
   },
   "outputs": [],
   "source": [
    "import numpy as np\n",
    "import pandas as pd\n",
    "import seaborn as sns\n",
    "import matplotlib.pyplot as plt\n",
    "import warnings\n",
    "warnings.filterwarnings('ignore')\n",
    "from sklearn.metrics import silhouette_score,davies_bouldin_score\n",
    "from sklearn.cluster import KMeans, AgglomerativeClustering, DBSCAN, SpectralClustering\n",
    "from sklearn.neighbors import NearestNeighbors\n",
    "from sklearn.preprocessing import MinMaxScaler,StandardScaler\n",
    "import scipy.cluster.hierarchy as shc\n",
    "from mpl_toolkits import mplot3d\n",
    "from sklearn.decomposition import PCA"
   ]
  },
  {
   "cell_type": "code",
   "execution_count": 7,
   "id": "542d12fe",
   "metadata": {
    "execution": {
     "iopub.execute_input": "2023-11-10T15:55:31.150345Z",
     "iopub.status.busy": "2023-11-10T15:55:31.149928Z",
     "iopub.status.idle": "2023-11-10T15:55:47.862138Z",
     "shell.execute_reply": "2023-11-10T15:55:47.860306Z"
    },
    "papermill": {
     "duration": 16.734026,
     "end_time": "2023-11-10T15:55:47.866262",
     "exception": false,
     "start_time": "2023-11-10T15:55:31.132236",
     "status": "completed"
    },
    "tags": []
   },
   "outputs": [
    {
     "name": "stdout",
     "output_type": "stream",
     "text": [
      "Collecting kneed\r\n",
      "  Downloading kneed-0.8.5-py3-none-any.whl (10 kB)\r\n",
      "Requirement already satisfied: numpy>=1.14.2 in /opt/conda/lib/python3.10/site-packages (from kneed) (1.23.5)\r\n",
      "Requirement already satisfied: scipy>=1.0.0 in /opt/conda/lib/python3.10/site-packages (from kneed) (1.11.2)\r\n",
      "Installing collected packages: kneed\r\n",
      "Successfully installed kneed-0.8.5\r\n",
      "Note: you may need to restart the kernel to use updated packages.\n"
     ]
    }
   ],
   "source": [
    "pip install kneed"
   ]
  },
  {
   "cell_type": "code",
   "execution_count": 8,
   "id": "34a2a097",
   "metadata": {
    "execution": {
     "iopub.execute_input": "2023-11-10T15:55:47.902749Z",
     "iopub.status.busy": "2023-11-10T15:55:47.902117Z",
     "iopub.status.idle": "2023-11-10T15:55:50.784486Z",
     "shell.execute_reply": "2023-11-10T15:55:50.782536Z"
    },
    "papermill": {
     "duration": 2.904638,
     "end_time": "2023-11-10T15:55:50.788172",
     "exception": false,
     "start_time": "2023-11-10T15:55:47.883534",
     "status": "completed"
    },
    "tags": []
   },
   "outputs": [
    {
     "name": "stdout",
     "output_type": "stream",
     "text": [
      "Requirement already satisfied: yellowbrick in /opt/conda/lib/python3.10/site-packages (1.5)\r\n",
      "\u001b[31mERROR: Could not find a version that satisfies the requirement from (from versions: none)\u001b[0m\u001b[31m\r\n",
      "\u001b[0m\u001b[31mERROR: No matching distribution found for from\u001b[0m\u001b[31m\r\n",
      "\u001b[0m"
     ]
    }
   ],
   "source": [
    "try:\n",
    "    from kneed import KneeLocator\n",
    "except:\n",
    "    \n",
    "    !pip install kneed\n",
    "    from kneed import KneeLocator\n",
    "    \n",
    "try: \n",
    "    from yellowbrick.cluster import KEIbowVisualizer\n",
    "except:\n",
    "    !pip install -U yellowbrick  from yellowbrick.cluster import KEIbowVisualizer\n",
    "       "
   ]
  },
  {
   "cell_type": "code",
   "execution_count": 9,
   "id": "93385e24",
   "metadata": {
    "execution": {
     "iopub.execute_input": "2023-11-10T15:55:50.827951Z",
     "iopub.status.busy": "2023-11-10T15:55:50.827405Z",
     "iopub.status.idle": "2023-11-10T15:55:51.902449Z",
     "shell.execute_reply": "2023-11-10T15:55:51.900948Z"
    },
    "papermill": {
     "duration": 1.097916,
     "end_time": "2023-11-10T15:55:51.905805",
     "exception": false,
     "start_time": "2023-11-10T15:55:50.807889",
     "status": "completed"
    },
    "tags": []
   },
   "outputs": [],
   "source": [
    "try:\n",
    "    import plotly.express as px\n",
    "    import plotly.graph_objects as go\n",
    "except:\n",
    "    !pip install plotly\n",
    "    import plotly.express as px\n",
    "    import plotly.graph_objects as go"
   ]
  },
  {
   "cell_type": "code",
   "execution_count": 10,
   "id": "b61b4515",
   "metadata": {
    "execution": {
     "iopub.execute_input": "2023-11-10T15:55:51.943407Z",
     "iopub.status.busy": "2023-11-10T15:55:51.942615Z",
     "iopub.status.idle": "2023-11-10T15:55:51.962935Z",
     "shell.execute_reply": "2023-11-10T15:55:51.961627Z"
    },
    "papermill": {
     "duration": 0.042582,
     "end_time": "2023-11-10T15:55:51.965833",
     "exception": false,
     "start_time": "2023-11-10T15:55:51.923251",
     "status": "completed"
    },
    "tags": []
   },
   "outputs": [
    {
     "data": {
      "text/html": [
       "<div>\n",
       "<style scoped>\n",
       "    .dataframe tbody tr th:only-of-type {\n",
       "        vertical-align: middle;\n",
       "    }\n",
       "\n",
       "    .dataframe tbody tr th {\n",
       "        vertical-align: top;\n",
       "    }\n",
       "\n",
       "    .dataframe thead th {\n",
       "        text-align: right;\n",
       "    }\n",
       "</style>\n",
       "<table border=\"1\" class=\"dataframe\">\n",
       "  <thead>\n",
       "    <tr style=\"text-align: right;\">\n",
       "      <th></th>\n",
       "      <th>TransactionID</th>\n",
       "      <th>CustomerID</th>\n",
       "      <th>CustomerDOB</th>\n",
       "      <th>CustGender</th>\n",
       "      <th>CustLocation</th>\n",
       "      <th>CustAccountBalance</th>\n",
       "      <th>TransactionDate</th>\n",
       "      <th>TransactionTime</th>\n",
       "      <th>TransactionAmount (INR)</th>\n",
       "    </tr>\n",
       "  </thead>\n",
       "  <tbody>\n",
       "    <tr>\n",
       "      <th>0</th>\n",
       "      <td>T1</td>\n",
       "      <td>C5841053</td>\n",
       "      <td>10/1/94</td>\n",
       "      <td>F</td>\n",
       "      <td>JAMSHEDPUR</td>\n",
       "      <td>17819.05</td>\n",
       "      <td>2/8/16</td>\n",
       "      <td>143207</td>\n",
       "      <td>25.0</td>\n",
       "    </tr>\n",
       "    <tr>\n",
       "      <th>1</th>\n",
       "      <td>T2</td>\n",
       "      <td>C2142763</td>\n",
       "      <td>4/4/57</td>\n",
       "      <td>M</td>\n",
       "      <td>JHAJJAR</td>\n",
       "      <td>2270.69</td>\n",
       "      <td>2/8/16</td>\n",
       "      <td>141858</td>\n",
       "      <td>27999.0</td>\n",
       "    </tr>\n",
       "    <tr>\n",
       "      <th>2</th>\n",
       "      <td>T3</td>\n",
       "      <td>C4417068</td>\n",
       "      <td>26/11/96</td>\n",
       "      <td>F</td>\n",
       "      <td>MUMBAI</td>\n",
       "      <td>17874.44</td>\n",
       "      <td>2/8/16</td>\n",
       "      <td>142712</td>\n",
       "      <td>459.0</td>\n",
       "    </tr>\n",
       "    <tr>\n",
       "      <th>3</th>\n",
       "      <td>T4</td>\n",
       "      <td>C5342380</td>\n",
       "      <td>14/9/73</td>\n",
       "      <td>F</td>\n",
       "      <td>MUMBAI</td>\n",
       "      <td>866503.21</td>\n",
       "      <td>2/8/16</td>\n",
       "      <td>142714</td>\n",
       "      <td>2060.0</td>\n",
       "    </tr>\n",
       "    <tr>\n",
       "      <th>4</th>\n",
       "      <td>T5</td>\n",
       "      <td>C9031234</td>\n",
       "      <td>24/3/88</td>\n",
       "      <td>F</td>\n",
       "      <td>NAVI MUMBAI</td>\n",
       "      <td>6714.43</td>\n",
       "      <td>2/8/16</td>\n",
       "      <td>181156</td>\n",
       "      <td>1762.5</td>\n",
       "    </tr>\n",
       "  </tbody>\n",
       "</table>\n",
       "</div>"
      ],
      "text/plain": [
       "  TransactionID CustomerID CustomerDOB CustGender CustLocation  \\\n",
       "0            T1   C5841053     10/1/94          F   JAMSHEDPUR   \n",
       "1            T2   C2142763      4/4/57          M      JHAJJAR   \n",
       "2            T3   C4417068    26/11/96          F       MUMBAI   \n",
       "3            T4   C5342380     14/9/73          F       MUMBAI   \n",
       "4            T5   C9031234     24/3/88          F  NAVI MUMBAI   \n",
       "\n",
       "   CustAccountBalance TransactionDate  TransactionTime  \\\n",
       "0            17819.05          2/8/16           143207   \n",
       "1             2270.69          2/8/16           141858   \n",
       "2            17874.44          2/8/16           142712   \n",
       "3           866503.21          2/8/16           142714   \n",
       "4             6714.43          2/8/16           181156   \n",
       "\n",
       "   TransactionAmount (INR)  \n",
       "0                     25.0  \n",
       "1                  27999.0  \n",
       "2                    459.0  \n",
       "3                   2060.0  \n",
       "4                   1762.5  "
      ]
     },
     "execution_count": 10,
     "metadata": {},
     "output_type": "execute_result"
    }
   ],
   "source": [
    "df.head()"
   ]
  },
  {
   "cell_type": "code",
   "execution_count": 11,
   "id": "1dc9167b",
   "metadata": {
    "execution": {
     "iopub.execute_input": "2023-11-10T15:55:52.002553Z",
     "iopub.status.busy": "2023-11-10T15:55:52.002092Z",
     "iopub.status.idle": "2023-11-10T15:55:54.081620Z",
     "shell.execute_reply": "2023-11-10T15:55:54.080308Z"
    },
    "papermill": {
     "duration": 2.102334,
     "end_time": "2023-11-10T15:55:54.085507",
     "exception": false,
     "start_time": "2023-11-10T15:55:51.983173",
     "status": "completed"
    },
    "tags": []
   },
   "outputs": [
    {
     "data": {
      "text/html": [
       "<div>\n",
       "<style scoped>\n",
       "    .dataframe tbody tr th:only-of-type {\n",
       "        vertical-align: middle;\n",
       "    }\n",
       "\n",
       "    .dataframe tbody tr th {\n",
       "        vertical-align: top;\n",
       "    }\n",
       "\n",
       "    .dataframe thead th {\n",
       "        text-align: right;\n",
       "    }\n",
       "</style>\n",
       "<table border=\"1\" class=\"dataframe\">\n",
       "  <thead>\n",
       "    <tr style=\"text-align: right;\">\n",
       "      <th></th>\n",
       "      <th>column</th>\n",
       "      <th>dtype</th>\n",
       "      <th>unique</th>\n",
       "      <th>sum_null</th>\n",
       "    </tr>\n",
       "  </thead>\n",
       "  <tbody>\n",
       "    <tr>\n",
       "      <th>0</th>\n",
       "      <td>TransactionID</td>\n",
       "      <td>object</td>\n",
       "      <td>1048567</td>\n",
       "      <td>0</td>\n",
       "    </tr>\n",
       "    <tr>\n",
       "      <th>1</th>\n",
       "      <td>CustomerID</td>\n",
       "      <td>object</td>\n",
       "      <td>884265</td>\n",
       "      <td>0</td>\n",
       "    </tr>\n",
       "    <tr>\n",
       "      <th>2</th>\n",
       "      <td>CustomerDOB</td>\n",
       "      <td>object</td>\n",
       "      <td>17254</td>\n",
       "      <td>3397</td>\n",
       "    </tr>\n",
       "    <tr>\n",
       "      <th>3</th>\n",
       "      <td>CustGender</td>\n",
       "      <td>object</td>\n",
       "      <td>3</td>\n",
       "      <td>1100</td>\n",
       "    </tr>\n",
       "    <tr>\n",
       "      <th>4</th>\n",
       "      <td>CustLocation</td>\n",
       "      <td>object</td>\n",
       "      <td>9355</td>\n",
       "      <td>151</td>\n",
       "    </tr>\n",
       "    <tr>\n",
       "      <th>5</th>\n",
       "      <td>CustAccountBalance</td>\n",
       "      <td>float64</td>\n",
       "      <td>161328</td>\n",
       "      <td>2369</td>\n",
       "    </tr>\n",
       "    <tr>\n",
       "      <th>6</th>\n",
       "      <td>TransactionDate</td>\n",
       "      <td>object</td>\n",
       "      <td>55</td>\n",
       "      <td>0</td>\n",
       "    </tr>\n",
       "    <tr>\n",
       "      <th>7</th>\n",
       "      <td>TransactionTime</td>\n",
       "      <td>int64</td>\n",
       "      <td>81918</td>\n",
       "      <td>0</td>\n",
       "    </tr>\n",
       "    <tr>\n",
       "      <th>8</th>\n",
       "      <td>TransactionAmount (INR)</td>\n",
       "      <td>float64</td>\n",
       "      <td>93024</td>\n",
       "      <td>0</td>\n",
       "    </tr>\n",
       "  </tbody>\n",
       "</table>\n",
       "</div>"
      ],
      "text/plain": [
       "                    column    dtype   unique  sum_null\n",
       "0            TransactionID   object  1048567         0\n",
       "1               CustomerID   object   884265         0\n",
       "2              CustomerDOB   object    17254      3397\n",
       "3               CustGender   object        3      1100\n",
       "4             CustLocation   object     9355       151\n",
       "5       CustAccountBalance  float64   161328      2369\n",
       "6          TransactionDate   object       55         0\n",
       "7          TransactionTime    int64    81918         0\n",
       "8  TransactionAmount (INR)  float64    93024         0"
      ]
     },
     "execution_count": 11,
     "metadata": {},
     "output_type": "execute_result"
    }
   ],
   "source": [
    "def check(df):\n",
    "    l=[]\n",
    "    columns=df.columns\n",
    "    for col in columns:\n",
    "        dtypes=df[col].dtypes\n",
    "        nunique=df[col]. nunique()\n",
    "        sum_null=df[col].isnull().sum()\n",
    "        l.append([col,dtypes,nunique,sum_null])\n",
    "    df_check=pd.DataFrame(l)\n",
    "    df_check.columns=['column','dtype','unique','sum_null']\n",
    "        \n",
    "    return df_check\n",
    "check(df)"
   ]
  },
  {
   "cell_type": "code",
   "execution_count": 12,
   "id": "8644981c",
   "metadata": {
    "execution": {
     "iopub.execute_input": "2023-11-10T15:55:54.127205Z",
     "iopub.status.busy": "2023-11-10T15:55:54.126328Z",
     "iopub.status.idle": "2023-11-10T15:55:55.545148Z",
     "shell.execute_reply": "2023-11-10T15:55:55.543632Z"
    },
    "papermill": {
     "duration": 1.443396,
     "end_time": "2023-11-10T15:55:55.548729",
     "exception": false,
     "start_time": "2023-11-10T15:55:54.105333",
     "status": "completed"
    },
    "tags": []
   },
   "outputs": [
    {
     "data": {
      "image/png": "[encoded data removed]",
      "text/plain": [
       "<Figure size 800x550 with 1 Axes>"
      ]
     },
     "metadata": {},
     "output_type": "display_data"
    }
   ],
   "source": [
    "plt.style.use(\"fivethirtyeight\")\n",
    "chart=sns.countplot(x='CustGender',data=df,palette='rocket',order=df['CustGender'].value_counts().index)\n",
    "plt.title(\"Frequency\",fontsize='20',backgroundcolor='AliceBlue',color='magenta');"
   ]
  },
  {
   "cell_type": "code",
   "execution_count": 13,
   "id": "a96d0cd1",
   "metadata": {
    "execution": {
     "iopub.execute_input": "2023-11-10T15:55:55.686089Z",
     "iopub.status.busy": "2023-11-10T15:55:55.685340Z",
     "iopub.status.idle": "2023-11-10T15:55:56.089271Z",
     "shell.execute_reply": "2023-11-10T15:55:56.088124Z"
    },
    "papermill": {
     "duration": 0.427017,
     "end_time": "2023-11-10T15:55:56.091854",
     "exception": false,
     "start_time": "2023-11-10T15:55:55.664837",
     "status": "completed"
    },
    "tags": []
   },
   "outputs": [
    {
     "data": {
      "text/plain": [
       "(1042651, 9)"
      ]
     },
     "execution_count": 13,
     "metadata": {},
     "output_type": "execute_result"
    }
   ],
   "source": [
    "df.dropna(subset=['CustLocation','CustomerDOB','CustAccountBalance'],inplace=True)\n",
    "df.shape"
   ]
  },
  {
   "cell_type": "code",
   "execution_count": 14,
   "id": "0565bd77",
   "metadata": {
    "execution": {
     "iopub.execute_input": "2023-11-10T15:55:56.130573Z",
     "iopub.status.busy": "2023-11-10T15:55:56.129922Z",
     "iopub.status.idle": "2023-11-10T15:55:56.789903Z",
     "shell.execute_reply": "2023-11-10T15:55:56.788635Z"
    },
    "papermill": {
     "duration": 0.683296,
     "end_time": "2023-11-10T15:55:56.793231",
     "exception": false,
     "start_time": "2023-11-10T15:55:56.109935",
     "status": "completed"
    },
    "tags": []
   },
   "outputs": [
    {
     "name": "stdout",
     "output_type": "stream",
     "text": [
      "<class 'pandas.core.frame.DataFrame'>\n",
      "Index: 1042651 entries, 0 to 1048566\n",
      "Data columns (total 9 columns):\n",
      " #   Column                   Non-Null Count    Dtype  \n",
      "---  ------                   --------------    -----  \n",
      " 0   TransactionID            1042651 non-null  object \n",
      " 1   CustomerID               1042651 non-null  object \n",
      " 2   CustomerDOB              1042651 non-null  object \n",
      " 3   CustGender               1041614 non-null  object \n",
      " 4   CustLocation             1042651 non-null  object \n",
      " 5   CustAccountBalance       1042651 non-null  float64\n",
      " 6   TransactionDate          1042651 non-null  object \n",
      " 7   TransactionTime          1042651 non-null  int64  \n",
      " 8   TransactionAmount (INR)  1042651 non-null  float64\n",
      "dtypes: float64(2), int64(1), object(6)\n",
      "memory usage: 79.5+ MB\n"
     ]
    }
   ],
   "source": [
    "df.info()"
   ]
  },
  {
   "cell_type": "code",
   "execution_count": 15,
   "id": "f9b50584",
   "metadata": {
    "execution": {
     "iopub.execute_input": "2023-11-10T15:55:56.831887Z",
     "iopub.status.busy": "2023-11-10T15:55:56.831140Z",
     "iopub.status.idle": "2023-11-10T15:55:56.975376Z",
     "shell.execute_reply": "2023-11-10T15:55:56.974046Z"
    },
    "papermill": {
     "duration": 0.167116,
     "end_time": "2023-11-10T15:55:56.978764",
     "exception": false,
     "start_time": "2023-11-10T15:55:56.811648",
     "status": "completed"
    },
    "tags": []
   },
   "outputs": [],
   "source": [
    "df.fillna({'CustGender':'M'},inplace=True)"
   ]
  },
  {
   "cell_type": "code",
   "execution_count": 16,
   "id": "a642ba65",
   "metadata": {
    "execution": {
     "iopub.execute_input": "2023-11-10T15:55:57.018202Z",
     "iopub.status.busy": "2023-11-10T15:55:57.017781Z",
     "iopub.status.idle": "2023-11-10T15:57:12.191967Z",
     "shell.execute_reply": "2023-11-10T15:57:12.190397Z"
    },
    "papermill": {
     "duration": 75.198519,
     "end_time": "2023-11-10T15:57:12.195372",
     "exception": false,
     "start_time": "2023-11-10T15:55:56.996853",
     "status": "completed"
    },
    "tags": []
   },
   "outputs": [],
   "source": [
    "df['CustomerDOB']=pd.to_datetime(df['CustomerDOB'])\n",
    "df['TransactionDate']=pd.to_datetime(df['TransactionDate'])\n",
    "df['CustomerAge']=df['TransactionDate'].dt.year-df['CustomerDOB'].dt.year\n"
   ]
  },
  {
   "cell_type": "code",
   "execution_count": 17,
   "id": "b2cd3097",
   "metadata": {
    "execution": {
     "iopub.execute_input": "2023-11-10T15:57:12.234319Z",
     "iopub.status.busy": "2023-11-10T15:57:12.233825Z",
     "iopub.status.idle": "2023-11-10T15:57:12.247585Z",
     "shell.execute_reply": "2023-11-10T15:57:12.246482Z"
    },
    "papermill": {
     "duration": 0.036547,
     "end_time": "2023-11-10T15:57:12.250297",
     "exception": false,
     "start_time": "2023-11-10T15:57:12.213750",
     "status": "completed"
    },
    "tags": []
   },
   "outputs": [],
   "source": [
    "df['TransactionDate1']=df['TransactionDate']\n",
    "df['TransactionDate2']=df['TransactionDate']"
   ]
  },
  {
   "cell_type": "code",
   "execution_count": 18,
   "id": "3196dcda",
   "metadata": {
    "execution": {
     "iopub.execute_input": "2023-11-10T15:57:12.290286Z",
     "iopub.status.busy": "2023-11-10T15:57:12.289070Z",
     "iopub.status.idle": "2023-11-10T15:57:18.022622Z",
     "shell.execute_reply": "2023-11-10T15:57:18.021220Z"
    },
    "papermill": {
     "duration": 5.756886,
     "end_time": "2023-11-10T15:57:18.025778",
     "exception": false,
     "start_time": "2023-11-10T15:57:12.268892",
     "status": "completed"
    },
    "tags": []
   },
   "outputs": [
    {
     "data": {
      "text/html": [
       "<div>\n",
       "<style scoped>\n",
       "    .dataframe tbody tr th:only-of-type {\n",
       "        vertical-align: middle;\n",
       "    }\n",
       "\n",
       "    .dataframe tbody tr th {\n",
       "        vertical-align: top;\n",
       "    }\n",
       "\n",
       "    .dataframe thead th {\n",
       "        text-align: right;\n",
       "    }\n",
       "</style>\n",
       "<table border=\"1\" class=\"dataframe\">\n",
       "  <thead>\n",
       "    <tr style=\"text-align: right;\">\n",
       "      <th></th>\n",
       "      <th>CustomerID</th>\n",
       "      <th>TransactionID</th>\n",
       "      <th>CustGender</th>\n",
       "      <th>CustLocation</th>\n",
       "      <th>CustAccountBalance</th>\n",
       "      <th>TransactionAmount (INR)</th>\n",
       "      <th>CustomerAge</th>\n",
       "      <th>TransactionDate2</th>\n",
       "      <th>TransactionDate1</th>\n",
       "      <th>TransactionDate</th>\n",
       "    </tr>\n",
       "  </thead>\n",
       "  <tbody>\n",
       "    <tr>\n",
       "      <th>0</th>\n",
       "      <td>C1010011</td>\n",
       "      <td>2</td>\n",
       "      <td>F</td>\n",
       "      <td>NOIDA</td>\n",
       "      <td>76340.635</td>\n",
       "      <td>2553.0</td>\n",
       "      <td>33</td>\n",
       "      <td>2016-09-26</td>\n",
       "      <td>2016-09-08</td>\n",
       "      <td>2016-09-17</td>\n",
       "    </tr>\n",
       "    <tr>\n",
       "      <th>1</th>\n",
       "      <td>C1010012</td>\n",
       "      <td>1</td>\n",
       "      <td>M</td>\n",
       "      <td>MUMBAI</td>\n",
       "      <td>24204.490</td>\n",
       "      <td>1499.0</td>\n",
       "      <td>22</td>\n",
       "      <td>2016-08-14</td>\n",
       "      <td>2016-08-14</td>\n",
       "      <td>2016-08-14</td>\n",
       "    </tr>\n",
       "    <tr>\n",
       "      <th>2</th>\n",
       "      <td>C1010014</td>\n",
       "      <td>2</td>\n",
       "      <td>F</td>\n",
       "      <td>MUMBAI</td>\n",
       "      <td>100112.950</td>\n",
       "      <td>727.5</td>\n",
       "      <td>32</td>\n",
       "      <td>2016-07-08</td>\n",
       "      <td>2016-01-08</td>\n",
       "      <td>2016-04-08</td>\n",
       "    </tr>\n",
       "    <tr>\n",
       "      <th>3</th>\n",
       "      <td>C1010018</td>\n",
       "      <td>1</td>\n",
       "      <td>F</td>\n",
       "      <td>CHAMPARAN</td>\n",
       "      <td>496.180</td>\n",
       "      <td>30.0</td>\n",
       "      <td>26</td>\n",
       "      <td>2016-09-15</td>\n",
       "      <td>2016-09-15</td>\n",
       "      <td>2016-09-15</td>\n",
       "    </tr>\n",
       "    <tr>\n",
       "      <th>4</th>\n",
       "      <td>C1010024</td>\n",
       "      <td>1</td>\n",
       "      <td>M</td>\n",
       "      <td>KOLKATA</td>\n",
       "      <td>87058.650</td>\n",
       "      <td>5000.0</td>\n",
       "      <td>-49</td>\n",
       "      <td>2016-08-18</td>\n",
       "      <td>2016-08-18</td>\n",
       "      <td>2016-08-18</td>\n",
       "    </tr>\n",
       "  </tbody>\n",
       "</table>\n",
       "</div>"
      ],
      "text/plain": [
       "  CustomerID  TransactionID CustGender CustLocation  CustAccountBalance  \\\n",
       "0   C1010011              2          F        NOIDA           76340.635   \n",
       "1   C1010012              1          M       MUMBAI           24204.490   \n",
       "2   C1010014              2          F       MUMBAI          100112.950   \n",
       "3   C1010018              1          F    CHAMPARAN             496.180   \n",
       "4   C1010024              1          M      KOLKATA           87058.650   \n",
       "\n",
       "   TransactionAmount (INR)  CustomerAge TransactionDate2 TransactionDate1  \\\n",
       "0                   2553.0           33       2016-09-26       2016-09-08   \n",
       "1                   1499.0           22       2016-08-14       2016-08-14   \n",
       "2                    727.5           32       2016-07-08       2016-01-08   \n",
       "3                     30.0           26       2016-09-15       2016-09-15   \n",
       "4                   5000.0          -49       2016-08-18       2016-08-18   \n",
       "\n",
       "  TransactionDate  \n",
       "0      2016-09-17  \n",
       "1      2016-08-14  \n",
       "2      2016-04-08  \n",
       "3      2016-09-15  \n",
       "4      2016-08-18  "
      ]
     },
     "execution_count": 18,
     "metadata": {},
     "output_type": "execute_result"
    }
   ],
   "source": [
    "RMF_data=df.groupby('CustomerID').agg({\n",
    "    \"TransactionID\":\"count\",\n",
    "    \"CustGender\":\"first\",\n",
    "    \"CustLocation\":\"first\",\n",
    "    \"CustAccountBalance\":\"mean\",\n",
    "    \"TransactionAmount (INR)\":\"mean\",\n",
    "    \"CustomerAge\":\"max\",\n",
    "    \"TransactionDate2\":\"max\",\n",
    "    \"TransactionDate1\":\"min\",\n",
    "    \"TransactionDate\":\"median\"\n",
    "})\n",
    "RMF_data=RMF_data.reset_index()\n",
    "RMF_data.head()"
   ]
  },
  {
   "cell_type": "code",
   "execution_count": 19,
   "id": "7bf1d635",
   "metadata": {
    "execution": {
     "iopub.execute_input": "2023-11-10T15:57:18.067019Z",
     "iopub.status.busy": "2023-11-10T15:57:18.066558Z",
     "iopub.status.idle": "2023-11-10T15:57:18.121103Z",
     "shell.execute_reply": "2023-11-10T15:57:18.119651Z"
    },
    "papermill": {
     "duration": 0.078784,
     "end_time": "2023-11-10T15:57:18.124272",
     "exception": false,
     "start_time": "2023-11-10T15:57:18.045488",
     "status": "completed"
    },
    "tags": []
   },
   "outputs": [
    {
     "data": {
      "text/html": [
       "<div>\n",
       "<style scoped>\n",
       "    .dataframe tbody tr th:only-of-type {\n",
       "        vertical-align: middle;\n",
       "    }\n",
       "\n",
       "    .dataframe tbody tr th {\n",
       "        vertical-align: top;\n",
       "    }\n",
       "\n",
       "    .dataframe thead th {\n",
       "        text-align: right;\n",
       "    }\n",
       "</style>\n",
       "<table border=\"1\" class=\"dataframe\">\n",
       "  <thead>\n",
       "    <tr style=\"text-align: right;\">\n",
       "      <th></th>\n",
       "      <th>TransactionID</th>\n",
       "      <th>CustGender</th>\n",
       "      <th>CustLocation</th>\n",
       "      <th>CustAccountBalance</th>\n",
       "      <th>TransactionAmount (INR)</th>\n",
       "      <th>CustomerAge</th>\n",
       "      <th>TransactionDate2</th>\n",
       "      <th>TransactionDate1</th>\n",
       "      <th>TransactionDate</th>\n",
       "    </tr>\n",
       "  </thead>\n",
       "  <tbody>\n",
       "    <tr>\n",
       "      <th>0</th>\n",
       "      <td>2</td>\n",
       "      <td>F</td>\n",
       "      <td>NOIDA</td>\n",
       "      <td>76340.635</td>\n",
       "      <td>2553.0</td>\n",
       "      <td>33</td>\n",
       "      <td>2016-09-26</td>\n",
       "      <td>2016-09-08</td>\n",
       "      <td>2016-09-17</td>\n",
       "    </tr>\n",
       "    <tr>\n",
       "      <th>1</th>\n",
       "      <td>1</td>\n",
       "      <td>M</td>\n",
       "      <td>MUMBAI</td>\n",
       "      <td>24204.490</td>\n",
       "      <td>1499.0</td>\n",
       "      <td>22</td>\n",
       "      <td>2016-08-14</td>\n",
       "      <td>2016-08-14</td>\n",
       "      <td>2016-08-14</td>\n",
       "    </tr>\n",
       "    <tr>\n",
       "      <th>2</th>\n",
       "      <td>2</td>\n",
       "      <td>F</td>\n",
       "      <td>MUMBAI</td>\n",
       "      <td>100112.950</td>\n",
       "      <td>727.5</td>\n",
       "      <td>32</td>\n",
       "      <td>2016-07-08</td>\n",
       "      <td>2016-01-08</td>\n",
       "      <td>2016-04-08</td>\n",
       "    </tr>\n",
       "    <tr>\n",
       "      <th>3</th>\n",
       "      <td>1</td>\n",
       "      <td>F</td>\n",
       "      <td>CHAMPARAN</td>\n",
       "      <td>496.180</td>\n",
       "      <td>30.0</td>\n",
       "      <td>26</td>\n",
       "      <td>2016-09-15</td>\n",
       "      <td>2016-09-15</td>\n",
       "      <td>2016-09-15</td>\n",
       "    </tr>\n",
       "    <tr>\n",
       "      <th>4</th>\n",
       "      <td>1</td>\n",
       "      <td>M</td>\n",
       "      <td>KOLKATA</td>\n",
       "      <td>87058.650</td>\n",
       "      <td>5000.0</td>\n",
       "      <td>-49</td>\n",
       "      <td>2016-08-18</td>\n",
       "      <td>2016-08-18</td>\n",
       "      <td>2016-08-18</td>\n",
       "    </tr>\n",
       "  </tbody>\n",
       "</table>\n",
       "</div>"
      ],
      "text/plain": [
       "   TransactionID CustGender CustLocation  CustAccountBalance  \\\n",
       "0              2          F        NOIDA           76340.635   \n",
       "1              1          M       MUMBAI           24204.490   \n",
       "2              2          F       MUMBAI          100112.950   \n",
       "3              1          F    CHAMPARAN             496.180   \n",
       "4              1          M      KOLKATA           87058.650   \n",
       "\n",
       "   TransactionAmount (INR)  CustomerAge TransactionDate2 TransactionDate1  \\\n",
       "0                   2553.0           33       2016-09-26       2016-09-08   \n",
       "1                   1499.0           22       2016-08-14       2016-08-14   \n",
       "2                    727.5           32       2016-07-08       2016-01-08   \n",
       "3                     30.0           26       2016-09-15       2016-09-15   \n",
       "4                   5000.0          -49       2016-08-18       2016-08-18   \n",
       "\n",
       "  TransactionDate  \n",
       "0      2016-09-17  \n",
       "1      2016-08-14  \n",
       "2      2016-04-08  \n",
       "3      2016-09-15  \n",
       "4      2016-08-18  "
      ]
     },
     "execution_count": 19,
     "metadata": {},
     "output_type": "execute_result"
    }
   ],
   "source": [
    "RMF_data.drop(columns=[\"CustomerID\"],inplace=True)\n",
    "RMF_data.head()"
   ]
  },
  {
   "cell_type": "code",
   "execution_count": 20,
   "id": "44d6013a",
   "metadata": {
    "execution": {
     "iopub.execute_input": "2023-11-10T15:57:18.167458Z",
     "iopub.status.busy": "2023-11-10T15:57:18.167032Z",
     "iopub.status.idle": "2023-11-10T15:57:18.188999Z",
     "shell.execute_reply": "2023-11-10T15:57:18.187501Z"
    },
    "papermill": {
     "duration": 0.047703,
     "end_time": "2023-11-10T15:57:18.192169",
     "exception": false,
     "start_time": "2023-11-10T15:57:18.144466",
     "status": "completed"
    },
    "tags": []
   },
   "outputs": [],
   "source": [
    "RMF_data['Recency']=RMF_data['TransactionDate2']-RMF_data['TransactionDate1']"
   ]
  },
  {
   "cell_type": "code",
   "execution_count": 21,
   "id": "45c85fca",
   "metadata": {
    "execution": {
     "iopub.execute_input": "2023-11-10T15:57:18.236475Z",
     "iopub.status.busy": "2023-11-10T15:57:18.236042Z",
     "iopub.status.idle": "2023-11-10T15:57:32.310998Z",
     "shell.execute_reply": "2023-11-10T15:57:32.309439Z"
    },
    "papermill": {
     "duration": 14.102504,
     "end_time": "2023-11-10T15:57:32.314361",
     "exception": false,
     "start_time": "2023-11-10T15:57:18.211857",
     "status": "completed"
    },
    "tags": []
   },
   "outputs": [
    {
     "data": {
      "text/html": [
       "<div>\n",
       "<style scoped>\n",
       "    .dataframe tbody tr th:only-of-type {\n",
       "        vertical-align: middle;\n",
       "    }\n",
       "\n",
       "    .dataframe tbody tr th {\n",
       "        vertical-align: top;\n",
       "    }\n",
       "\n",
       "    .dataframe thead th {\n",
       "        text-align: right;\n",
       "    }\n",
       "</style>\n",
       "<table border=\"1\" class=\"dataframe\">\n",
       "  <thead>\n",
       "    <tr style=\"text-align: right;\">\n",
       "      <th></th>\n",
       "      <th>TransactionID</th>\n",
       "      <th>CustGender</th>\n",
       "      <th>CustLocation</th>\n",
       "      <th>CustAccountBalance</th>\n",
       "      <th>TransactionAmount (INR)</th>\n",
       "      <th>CustomerAge</th>\n",
       "      <th>TransactionDate2</th>\n",
       "      <th>TransactionDate1</th>\n",
       "      <th>TransactionDate</th>\n",
       "      <th>Recency</th>\n",
       "    </tr>\n",
       "  </thead>\n",
       "  <tbody>\n",
       "    <tr>\n",
       "      <th>0</th>\n",
       "      <td>2</td>\n",
       "      <td>F</td>\n",
       "      <td>NOIDA</td>\n",
       "      <td>76340.635</td>\n",
       "      <td>2553.0</td>\n",
       "      <td>33</td>\n",
       "      <td>2016-09-26</td>\n",
       "      <td>2016-09-08</td>\n",
       "      <td>2016-09-17</td>\n",
       "      <td>18 days</td>\n",
       "    </tr>\n",
       "    <tr>\n",
       "      <th>1</th>\n",
       "      <td>1</td>\n",
       "      <td>M</td>\n",
       "      <td>MUMBAI</td>\n",
       "      <td>24204.490</td>\n",
       "      <td>1499.0</td>\n",
       "      <td>22</td>\n",
       "      <td>2016-08-14</td>\n",
       "      <td>2016-08-14</td>\n",
       "      <td>2016-08-14</td>\n",
       "      <td>0 days</td>\n",
       "    </tr>\n",
       "    <tr>\n",
       "      <th>2</th>\n",
       "      <td>2</td>\n",
       "      <td>F</td>\n",
       "      <td>MUMBAI</td>\n",
       "      <td>100112.950</td>\n",
       "      <td>727.5</td>\n",
       "      <td>32</td>\n",
       "      <td>2016-07-08</td>\n",
       "      <td>2016-01-08</td>\n",
       "      <td>2016-04-08</td>\n",
       "      <td>182 days</td>\n",
       "    </tr>\n",
       "    <tr>\n",
       "      <th>3</th>\n",
       "      <td>1</td>\n",
       "      <td>F</td>\n",
       "      <td>CHAMPARAN</td>\n",
       "      <td>496.180</td>\n",
       "      <td>30.0</td>\n",
       "      <td>26</td>\n",
       "      <td>2016-09-15</td>\n",
       "      <td>2016-09-15</td>\n",
       "      <td>2016-09-15</td>\n",
       "      <td>0 days</td>\n",
       "    </tr>\n",
       "    <tr>\n",
       "      <th>4</th>\n",
       "      <td>1</td>\n",
       "      <td>M</td>\n",
       "      <td>KOLKATA</td>\n",
       "      <td>87058.650</td>\n",
       "      <td>5000.0</td>\n",
       "      <td>-49</td>\n",
       "      <td>2016-08-18</td>\n",
       "      <td>2016-08-18</td>\n",
       "      <td>2016-08-18</td>\n",
       "      <td>0 days</td>\n",
       "    </tr>\n",
       "  </tbody>\n",
       "</table>\n",
       "</div>"
      ],
      "text/plain": [
       "   TransactionID CustGender CustLocation  CustAccountBalance  \\\n",
       "0              2          F        NOIDA           76340.635   \n",
       "1              1          M       MUMBAI           24204.490   \n",
       "2              2          F       MUMBAI          100112.950   \n",
       "3              1          F    CHAMPARAN             496.180   \n",
       "4              1          M      KOLKATA           87058.650   \n",
       "\n",
       "   TransactionAmount (INR)  CustomerAge TransactionDate2 TransactionDate1  \\\n",
       "0                   2553.0           33       2016-09-26       2016-09-08   \n",
       "1                   1499.0           22       2016-08-14       2016-08-14   \n",
       "2                    727.5           32       2016-07-08       2016-01-08   \n",
       "3                     30.0           26       2016-09-15       2016-09-15   \n",
       "4                   5000.0          -49       2016-08-18       2016-08-18   \n",
       "\n",
       "  TransactionDate   Recency  \n",
       "0      2016-09-17   18 days  \n",
       "1      2016-08-14    0 days  \n",
       "2      2016-04-08  182 days  \n",
       "3      2016-09-15    0 days  \n",
       "4      2016-08-18    0 days  "
      ]
     },
     "execution_count": 21,
     "metadata": {},
     "output_type": "execute_result"
    }
   ],
   "source": [
    "RMF_data['Recency']=RMF_data['Recency'].astype(str)\n",
    "RMF_data.head()"
   ]
  },
  {
   "cell_type": "code",
   "execution_count": 22,
   "id": "ecfc9b1a",
   "metadata": {
    "execution": {
     "iopub.execute_input": "2023-11-10T15:57:32.354574Z",
     "iopub.status.busy": "2023-11-10T15:57:32.354158Z",
     "iopub.status.idle": "2023-11-10T15:57:32.360270Z",
     "shell.execute_reply": "2023-11-10T15:57:32.358843Z"
    },
    "papermill": {
     "duration": 0.029287,
     "end_time": "2023-11-10T15:57:32.362920",
     "exception": false,
     "start_time": "2023-11-10T15:57:32.333633",
     "status": "completed"
    },
    "tags": []
   },
   "outputs": [],
   "source": [
    "import re"
   ]
  },
  {
   "cell_type": "code",
   "execution_count": 23,
   "id": "6a0a1a25",
   "metadata": {
    "execution": {
     "iopub.execute_input": "2023-11-10T15:57:32.404953Z",
     "iopub.status.busy": "2023-11-10T15:57:32.403645Z",
     "iopub.status.idle": "2023-11-10T15:57:34.241600Z",
     "shell.execute_reply": "2023-11-10T15:57:34.240462Z"
    },
    "papermill": {
     "duration": 1.861878,
     "end_time": "2023-11-10T15:57:34.244779",
     "exception": false,
     "start_time": "2023-11-10T15:57:32.382901",
     "status": "completed"
    },
    "tags": []
   },
   "outputs": [],
   "source": [
    "RMF_data['Recency']=RMF_data['Recency'].apply(lambda x : re.search('\\d+',x).group())\n",
    "RMF_data['Recency']=RMF_data['Recency'].astype(int)"
   ]
  },
  {
   "cell_type": "code",
   "execution_count": 24,
   "id": "53a0d91a",
   "metadata": {
    "execution": {
     "iopub.execute_input": "2023-11-10T15:57:34.288064Z",
     "iopub.status.busy": "2023-11-10T15:57:34.286933Z",
     "iopub.status.idle": "2023-11-10T15:57:34.294240Z",
     "shell.execute_reply": "2023-11-10T15:57:34.292533Z"
    },
    "papermill": {
     "duration": 0.032905,
     "end_time": "2023-11-10T15:57:34.297470",
     "exception": false,
     "start_time": "2023-11-10T15:57:34.264565",
     "status": "completed"
    },
    "tags": []
   },
   "outputs": [],
   "source": [
    "def rep_0(i):\n",
    "    if i==0:\n",
    "        return 1\n",
    "    else:\n",
    "        return 1\n",
    "    RMF_data['Recency']=RMF_data['Recency'].apply(rep_0)"
   ]
  },
  {
   "cell_type": "code",
   "execution_count": 25,
   "id": "9d641f8c",
   "metadata": {
    "execution": {
     "iopub.execute_input": "2023-11-10T15:57:34.339676Z",
     "iopub.status.busy": "2023-11-10T15:57:34.339214Z",
     "iopub.status.idle": "2023-11-10T15:57:34.406409Z",
     "shell.execute_reply": "2023-11-10T15:57:34.404880Z"
    },
    "papermill": {
     "duration": 0.091634,
     "end_time": "2023-11-10T15:57:34.409057",
     "exception": false,
     "start_time": "2023-11-10T15:57:34.317423",
     "status": "completed"
    },
    "tags": []
   },
   "outputs": [
    {
     "data": {
      "text/html": [
       "<div>\n",
       "<style scoped>\n",
       "    .dataframe tbody tr th:only-of-type {\n",
       "        vertical-align: middle;\n",
       "    }\n",
       "\n",
       "    .dataframe tbody tr th {\n",
       "        vertical-align: top;\n",
       "    }\n",
       "\n",
       "    .dataframe thead th {\n",
       "        text-align: right;\n",
       "    }\n",
       "</style>\n",
       "<table border=\"1\" class=\"dataframe\">\n",
       "  <thead>\n",
       "    <tr style=\"text-align: right;\">\n",
       "      <th></th>\n",
       "      <th>TransactionID</th>\n",
       "      <th>CustGender</th>\n",
       "      <th>CustLocation</th>\n",
       "      <th>CustAccountBalance</th>\n",
       "      <th>TransactionAmount (INR)</th>\n",
       "      <th>CustomerAge</th>\n",
       "      <th>TransactionDate</th>\n",
       "      <th>Recency</th>\n",
       "    </tr>\n",
       "  </thead>\n",
       "  <tbody>\n",
       "    <tr>\n",
       "      <th>0</th>\n",
       "      <td>2</td>\n",
       "      <td>F</td>\n",
       "      <td>NOIDA</td>\n",
       "      <td>76340.635</td>\n",
       "      <td>2553.0</td>\n",
       "      <td>33</td>\n",
       "      <td>2016-09-17</td>\n",
       "      <td>18</td>\n",
       "    </tr>\n",
       "    <tr>\n",
       "      <th>1</th>\n",
       "      <td>1</td>\n",
       "      <td>M</td>\n",
       "      <td>MUMBAI</td>\n",
       "      <td>24204.490</td>\n",
       "      <td>1499.0</td>\n",
       "      <td>22</td>\n",
       "      <td>2016-08-14</td>\n",
       "      <td>0</td>\n",
       "    </tr>\n",
       "    <tr>\n",
       "      <th>2</th>\n",
       "      <td>2</td>\n",
       "      <td>F</td>\n",
       "      <td>MUMBAI</td>\n",
       "      <td>100112.950</td>\n",
       "      <td>727.5</td>\n",
       "      <td>32</td>\n",
       "      <td>2016-04-08</td>\n",
       "      <td>182</td>\n",
       "    </tr>\n",
       "    <tr>\n",
       "      <th>3</th>\n",
       "      <td>1</td>\n",
       "      <td>F</td>\n",
       "      <td>CHAMPARAN</td>\n",
       "      <td>496.180</td>\n",
       "      <td>30.0</td>\n",
       "      <td>26</td>\n",
       "      <td>2016-09-15</td>\n",
       "      <td>0</td>\n",
       "    </tr>\n",
       "    <tr>\n",
       "      <th>4</th>\n",
       "      <td>1</td>\n",
       "      <td>M</td>\n",
       "      <td>KOLKATA</td>\n",
       "      <td>87058.650</td>\n",
       "      <td>5000.0</td>\n",
       "      <td>-49</td>\n",
       "      <td>2016-08-18</td>\n",
       "      <td>0</td>\n",
       "    </tr>\n",
       "  </tbody>\n",
       "</table>\n",
       "</div>"
      ],
      "text/plain": [
       "   TransactionID CustGender CustLocation  CustAccountBalance  \\\n",
       "0              2          F        NOIDA           76340.635   \n",
       "1              1          M       MUMBAI           24204.490   \n",
       "2              2          F       MUMBAI          100112.950   \n",
       "3              1          F    CHAMPARAN             496.180   \n",
       "4              1          M      KOLKATA           87058.650   \n",
       "\n",
       "   TransactionAmount (INR)  CustomerAge TransactionDate  Recency  \n",
       "0                   2553.0           33      2016-09-17       18  \n",
       "1                   1499.0           22      2016-08-14        0  \n",
       "2                    727.5           32      2016-04-08      182  \n",
       "3                     30.0           26      2016-09-15        0  \n",
       "4                   5000.0          -49      2016-08-18        0  "
      ]
     },
     "execution_count": 25,
     "metadata": {},
     "output_type": "execute_result"
    }
   ],
   "source": [
    "RMF_data.drop(columns=[\"TransactionDate1\",\"TransactionDate2\"],inplace=True)\n",
    "RMF_data.head()"
   ]
  },
  {
   "cell_type": "code",
   "execution_count": 26,
   "id": "878db944",
   "metadata": {
    "execution": {
     "iopub.execute_input": "2023-11-10T15:57:34.451686Z",
     "iopub.status.busy": "2023-11-10T15:57:34.451181Z",
     "iopub.status.idle": "2023-11-10T15:57:34.458928Z",
     "shell.execute_reply": "2023-11-10T15:57:34.457409Z"
    },
    "papermill": {
     "duration": 0.033163,
     "end_time": "2023-11-10T15:57:34.461545",
     "exception": false,
     "start_time": "2023-11-10T15:57:34.428382",
     "status": "completed"
    },
    "tags": []
   },
   "outputs": [],
   "source": [
    "RMF_data.rename(columns={\"TransactionID\":\"Frequency\"},inplace=True)"
   ]
  },
  {
   "cell_type": "code",
   "execution_count": 27,
   "id": "3dfba3cb",
   "metadata": {
    "execution": {
     "iopub.execute_input": "2023-11-10T15:57:34.502431Z",
     "iopub.status.busy": "2023-11-10T15:57:34.501956Z",
     "iopub.status.idle": "2023-11-10T15:57:34.824916Z",
     "shell.execute_reply": "2023-11-10T15:57:34.823531Z"
    },
    "papermill": {
     "duration": 0.34691,
     "end_time": "2023-11-10T15:57:34.827787",
     "exception": false,
     "start_time": "2023-11-10T15:57:34.480877",
     "status": "completed"
    },
    "tags": []
   },
   "outputs": [
    {
     "data": {
      "text/html": [
       "<div>\n",
       "<style scoped>\n",
       "    .dataframe tbody tr th:only-of-type {\n",
       "        vertical-align: middle;\n",
       "    }\n",
       "\n",
       "    .dataframe tbody tr th {\n",
       "        vertical-align: top;\n",
       "    }\n",
       "\n",
       "    .dataframe thead th {\n",
       "        text-align: right;\n",
       "    }\n",
       "</style>\n",
       "<table border=\"1\" class=\"dataframe\">\n",
       "  <thead>\n",
       "    <tr style=\"text-align: right;\">\n",
       "      <th></th>\n",
       "      <th>Lower</th>\n",
       "      <th>Upper</th>\n",
       "      <th>Outliers</th>\n",
       "      <th>Percentage%</th>\n",
       "    </tr>\n",
       "  </thead>\n",
       "  <tbody>\n",
       "    <tr>\n",
       "      <th>Frequency</th>\n",
       "      <td>1.0000</td>\n",
       "      <td>1.0000</td>\n",
       "      <td>142200</td>\n",
       "      <td>16.16</td>\n",
       "    </tr>\n",
       "    <tr>\n",
       "      <th>CustAccountBalance</th>\n",
       "      <td>-78311.0400</td>\n",
       "      <td>145397.4400</td>\n",
       "      <td>116609</td>\n",
       "      <td>13.25</td>\n",
       "    </tr>\n",
       "    <tr>\n",
       "      <th>TransactionAmount (INR)</th>\n",
       "      <td>-1385.4825</td>\n",
       "      <td>2817.1375</td>\n",
       "      <td>91878</td>\n",
       "      <td>10.44</td>\n",
       "    </tr>\n",
       "    <tr>\n",
       "      <th>CustomerAge</th>\n",
       "      <td>11.5000</td>\n",
       "      <td>47.5000</td>\n",
       "      <td>117231</td>\n",
       "      <td>13.32</td>\n",
       "    </tr>\n",
       "    <tr>\n",
       "      <th>Recency</th>\n",
       "      <td>0.0000</td>\n",
       "      <td>0.0000</td>\n",
       "      <td>139717</td>\n",
       "      <td>15.87</td>\n",
       "    </tr>\n",
       "  </tbody>\n",
       "</table>\n",
       "</div>"
      ],
      "text/plain": [
       "                              Lower        Upper  Outliers  Percentage%\n",
       "Frequency                    1.0000       1.0000    142200        16.16\n",
       "CustAccountBalance      -78311.0400  145397.4400    116609        13.25\n",
       "TransactionAmount (INR)  -1385.4825    2817.1375     91878        10.44\n",
       "CustomerAge                 11.5000      47.5000    117231        13.32\n",
       "Recency                      0.0000       0.0000    139717        15.87"
      ]
     },
     "execution_count": 27,
     "metadata": {},
     "output_type": "execute_result"
    }
   ],
   "source": [
    "lower_list=[]\n",
    "upper_list=[]\n",
    "num_list=[]\n",
    "perc_list=[]\n",
    "cols=['Frequency', 'CustAccountBalance', 'TransactionAmount (INR)', 'CustomerAge', 'Recency']\n",
    "\n",
    "for i in cols:\n",
    "    Q1 = RMF_data[i].quantile(0.25)\n",
    "    Q3 = RMF_data[i].quantile(0.75)\n",
    "    IQR = Q3 - Q1\n",
    "    lower = Q1 - 1.5 * IQR\n",
    "    upper = Q3 + 1.5 * IQR\n",
    "    num=RMF_data[(RMF_data[i] < lower) | (RMF_data[i] > upper)].shape[0]\n",
    "    perc = (num / RMF_data.shape[0]) * 100\n",
    "    lower_list.append(lower)\n",
    "    upper_list.append(upper)\n",
    "    num_list.append(num)\n",
    "    perc_list.append(round(perc,2))\n",
    "dic={'Lower': lower_list, 'Upper':upper_list, 'Outliers':num_list,'Percentage%':perc_list }\n",
    "outliers_df=pd.DataFrame(dic,index=['Frequency', 'CustAccountBalance', 'TransactionAmount (INR)', 'CustomerAge', 'Recency'])\n",
    "outliers_df"
   ]
  },
  {
   "cell_type": "code",
   "execution_count": 28,
   "id": "c0f70c98",
   "metadata": {
    "execution": {
     "iopub.execute_input": "2023-11-10T15:57:34.870390Z",
     "iopub.status.busy": "2023-11-10T15:57:34.869873Z",
     "iopub.status.idle": "2023-11-10T15:57:35.174849Z",
     "shell.execute_reply": "2023-11-10T15:57:35.173281Z"
    },
    "papermill": {
     "duration": 0.330034,
     "end_time": "2023-11-10T15:57:35.178009",
     "exception": false,
     "start_time": "2023-11-10T15:57:34.847975",
     "status": "completed"
    },
    "tags": []
   },
   "outputs": [
    {
     "data": {
      "text/html": [
       "<div>\n",
       "<style scoped>\n",
       "    .dataframe tbody tr th:only-of-type {\n",
       "        vertical-align: middle;\n",
       "    }\n",
       "\n",
       "    .dataframe tbody tr th {\n",
       "        vertical-align: top;\n",
       "    }\n",
       "\n",
       "    .dataframe thead th {\n",
       "        text-align: right;\n",
       "    }\n",
       "</style>\n",
       "<table border=\"1\" class=\"dataframe\">\n",
       "  <thead>\n",
       "    <tr style=\"text-align: right;\">\n",
       "      <th></th>\n",
       "      <th>Frequency</th>\n",
       "      <th>CustAccountBalance</th>\n",
       "      <th>TransactionAmount (INR)</th>\n",
       "      <th>CustomerAge</th>\n",
       "      <th>TransactionDate</th>\n",
       "      <th>Recency</th>\n",
       "    </tr>\n",
       "  </thead>\n",
       "  <tbody>\n",
       "    <tr>\n",
       "      <th>count</th>\n",
       "      <td>880115.000000</td>\n",
       "      <td>8.801150e+05</td>\n",
       "      <td>8.801150e+05</td>\n",
       "      <td>880115.000000</td>\n",
       "      <td>880115</td>\n",
       "      <td>880115.000000</td>\n",
       "    </tr>\n",
       "    <tr>\n",
       "      <th>mean</th>\n",
       "      <td>1.184676</td>\n",
       "      <td>1.146274e+05</td>\n",
       "      <td>1.567101e+03</td>\n",
       "      <td>36.169507</td>\n",
       "      <td>2016-07-26 00:34:18.358282240</td>\n",
       "      <td>15.045150</td>\n",
       "    </tr>\n",
       "    <tr>\n",
       "      <th>min</th>\n",
       "      <td>1.000000</td>\n",
       "      <td>0.000000e+00</td>\n",
       "      <td>0.000000e+00</td>\n",
       "      <td>-56.000000</td>\n",
       "      <td>2016-01-08 00:00:00</td>\n",
       "      <td>0.000000</td>\n",
       "    </tr>\n",
       "    <tr>\n",
       "      <th>25%</th>\n",
       "      <td>1.000000</td>\n",
       "      <td>5.579640e+03</td>\n",
       "      <td>1.905000e+02</td>\n",
       "      <td>25.000000</td>\n",
       "      <td>2016-06-09 00:00:00</td>\n",
       "      <td>0.000000</td>\n",
       "    </tr>\n",
       "    <tr>\n",
       "      <th>50%</th>\n",
       "      <td>1.000000</td>\n",
       "      <td>1.864142e+04</td>\n",
       "      <td>5.000000e+02</td>\n",
       "      <td>29.000000</td>\n",
       "      <td>2016-08-19 00:00:00</td>\n",
       "      <td>0.000000</td>\n",
       "    </tr>\n",
       "    <tr>\n",
       "      <th>75%</th>\n",
       "      <td>1.000000</td>\n",
       "      <td>6.150676e+04</td>\n",
       "      <td>1.241155e+03</td>\n",
       "      <td>34.000000</td>\n",
       "      <td>2016-09-09 00:00:00</td>\n",
       "      <td>0.000000</td>\n",
       "    </tr>\n",
       "    <tr>\n",
       "      <th>max</th>\n",
       "      <td>6.000000</td>\n",
       "      <td>1.150355e+08</td>\n",
       "      <td>1.560035e+06</td>\n",
       "      <td>216.000000</td>\n",
       "      <td>2016-12-09 00:00:00</td>\n",
       "      <td>336.000000</td>\n",
       "    </tr>\n",
       "    <tr>\n",
       "      <th>std</th>\n",
       "      <td>0.449134</td>\n",
       "      <td>8.007375e+05</td>\n",
       "      <td>6.432428e+03</td>\n",
       "      <td>51.255475</td>\n",
       "      <td>NaN</td>\n",
       "      <td>46.936939</td>\n",
       "    </tr>\n",
       "  </tbody>\n",
       "</table>\n",
       "</div>"
      ],
      "text/plain": [
       "           Frequency  CustAccountBalance  TransactionAmount (INR)  \\\n",
       "count  880115.000000        8.801150e+05             8.801150e+05   \n",
       "mean        1.184676        1.146274e+05             1.567101e+03   \n",
       "min         1.000000        0.000000e+00             0.000000e+00   \n",
       "25%         1.000000        5.579640e+03             1.905000e+02   \n",
       "50%         1.000000        1.864142e+04             5.000000e+02   \n",
       "75%         1.000000        6.150676e+04             1.241155e+03   \n",
       "max         6.000000        1.150355e+08             1.560035e+06   \n",
       "std         0.449134        8.007375e+05             6.432428e+03   \n",
       "\n",
       "         CustomerAge                TransactionDate        Recency  \n",
       "count  880115.000000                         880115  880115.000000  \n",
       "mean       36.169507  2016-07-26 00:34:18.358282240      15.045150  \n",
       "min       -56.000000            2016-01-08 00:00:00       0.000000  \n",
       "25%        25.000000            2016-06-09 00:00:00       0.000000  \n",
       "50%        29.000000            2016-08-19 00:00:00       0.000000  \n",
       "75%        34.000000            2016-09-09 00:00:00       0.000000  \n",
       "max       216.000000            2016-12-09 00:00:00     336.000000  \n",
       "std        51.255475                            NaN      46.936939  "
      ]
     },
     "execution_count": 28,
     "metadata": {},
     "output_type": "execute_result"
    }
   ],
   "source": [
    "RMF_data.describe()"
   ]
  },
  {
   "cell_type": "code",
   "execution_count": 29,
   "id": "985f7f28",
   "metadata": {
    "execution": {
     "iopub.execute_input": "2023-11-10T15:57:35.220618Z",
     "iopub.status.busy": "2023-11-10T15:57:35.220088Z",
     "iopub.status.idle": "2023-11-10T15:57:35.230672Z",
     "shell.execute_reply": "2023-11-10T15:57:35.229158Z"
    },
    "papermill": {
     "duration": 0.03545,
     "end_time": "2023-11-10T15:57:35.233634",
     "exception": false,
     "start_time": "2023-11-10T15:57:35.198184",
     "status": "completed"
    },
    "tags": []
   },
   "outputs": [
    {
     "data": {
      "text/plain": [
       "Index(['Frequency', 'CustGender', 'CustLocation', 'CustAccountBalance',\n",
       "       'TransactionAmount (INR)', 'CustomerAge', 'TransactionDate', 'Recency'],\n",
       "      dtype='object')"
      ]
     },
     "execution_count": 29,
     "metadata": {},
     "output_type": "execute_result"
    }
   ],
   "source": [
    "RMF_data.columns"
   ]
  },
  {
   "cell_type": "code",
   "execution_count": 30,
   "id": "92aef136",
   "metadata": {
    "execution": {
     "iopub.execute_input": "2023-11-10T15:57:35.280964Z",
     "iopub.status.busy": "2023-11-10T15:57:35.280420Z",
     "iopub.status.idle": "2023-11-10T15:57:35.502952Z",
     "shell.execute_reply": "2023-11-10T15:57:35.501052Z"
    },
    "papermill": {
     "duration": 0.249925,
     "end_time": "2023-11-10T15:57:35.505829",
     "exception": false,
     "start_time": "2023-11-10T15:57:35.255904",
     "status": "completed"
    },
    "tags": []
   },
   "outputs": [
    {
     "name": "stdout",
     "output_type": "stream",
     "text": [
      "<class 'pandas.core.frame.DataFrame'>\n",
      "RangeIndex: 880115 entries, 0 to 880114\n",
      "Data columns (total 8 columns):\n",
      " #   Column                   Non-Null Count   Dtype         \n",
      "---  ------                   --------------   -----         \n",
      " 0   Frequency                880115 non-null  int64         \n",
      " 1   CustGender               880115 non-null  object        \n",
      " 2   CustLocation             880115 non-null  object        \n",
      " 3   CustAccountBalance       880115 non-null  float64       \n",
      " 4   TransactionAmount (INR)  880115 non-null  float64       \n",
      " 5   CustomerAge              880115 non-null  int32         \n",
      " 6   TransactionDate          880115 non-null  datetime64[ns]\n",
      " 7   Recency                  880115 non-null  int64         \n",
      "dtypes: datetime64[ns](1), float64(2), int32(1), int64(2), object(2)\n",
      "memory usage: 50.4+ MB\n"
     ]
    }
   ],
   "source": [
    "RMF_data.info()"
   ]
  },
  {
   "cell_type": "code",
   "execution_count": 31,
   "id": "21cf09b3",
   "metadata": {
    "execution": {
     "iopub.execute_input": "2023-11-10T15:57:35.547797Z",
     "iopub.status.busy": "2023-11-10T15:57:35.547364Z",
     "iopub.status.idle": "2023-11-10T15:57:35.836027Z",
     "shell.execute_reply": "2023-11-10T15:57:35.834533Z"
    },
    "papermill": {
     "duration": 0.3136,
     "end_time": "2023-11-10T15:57:35.839492",
     "exception": false,
     "start_time": "2023-11-10T15:57:35.525892",
     "status": "completed"
    },
    "tags": []
   },
   "outputs": [],
   "source": [
    "from sklearn.preprocessing import LabelEncoder\n",
    "\n",
    "lr=LabelEncoder()\n",
    "\n",
    "RMF_data['CustGender']=lr.fit_transform(RMF_data['CustGender'])"
   ]
  },
  {
   "cell_type": "code",
   "execution_count": 32,
   "id": "b5c18a6c",
   "metadata": {
    "execution": {
     "iopub.execute_input": "2023-11-10T15:57:35.885563Z",
     "iopub.status.busy": "2023-11-10T15:57:35.885176Z",
     "iopub.status.idle": "2023-11-10T15:57:36.296031Z",
     "shell.execute_reply": "2023-11-10T15:57:36.294399Z"
    },
    "papermill": {
     "duration": 0.438154,
     "end_time": "2023-11-10T15:57:36.299315",
     "exception": false,
     "start_time": "2023-11-10T15:57:35.861161",
     "status": "completed"
    },
    "tags": []
   },
   "outputs": [],
   "source": [
    "from sklearn.preprocessing import LabelEncoder\n",
    "\n",
    "lr=LabelEncoder()\n",
    "\n",
    "RMF_data['CustLocation']=lr.fit_transform(RMF_data['CustLocation'])"
   ]
  },
  {
   "cell_type": "code",
   "execution_count": 33,
   "id": "4c899bde",
   "metadata": {
    "execution": {
     "iopub.execute_input": "2023-11-10T15:57:36.343697Z",
     "iopub.status.busy": "2023-11-10T15:57:36.343300Z",
     "iopub.status.idle": "2023-11-10T15:57:37.220246Z",
     "shell.execute_reply": "2023-11-10T15:57:37.219184Z"
    },
    "papermill": {
     "duration": 0.902897,
     "end_time": "2023-11-10T15:57:37.223291",
     "exception": false,
     "start_time": "2023-11-10T15:57:36.320394",
     "status": "completed"
    },
    "tags": []
   },
   "outputs": [
    {
     "data": {
      "text/plain": [
       "<Axes: >"
      ]
     },
     "execution_count": 33,
     "metadata": {},
     "output_type": "execute_result"
    },
    {
     "data": {
      "image/png": "[encoded data removed]",
      "text/plain": [
       "<Figure size 700x500 with 2 Axes>"
      ]
     },
     "metadata": {},
     "output_type": "display_data"
    }
   ],
   "source": [
    "plt.figure(figsize=(7,5))\n",
    "correlation=RMF_data.corr()\n",
    "sns.heatmap(correlation,vmin=None,\n",
    "    vmax=0.8,\n",
    "    cmap='rocket_r',\n",
    "    annot=True,        \n",
    "    fmt='.1f',\n",
    "    linecolor='white',\n",
    "    cbar=True)"
   ]
  },
  {
   "cell_type": "code",
   "execution_count": 34,
   "id": "2536d6d4",
   "metadata": {
    "execution": {
     "iopub.execute_input": "2023-11-10T15:57:37.274280Z",
     "iopub.status.busy": "2023-11-10T15:57:37.273899Z",
     "iopub.status.idle": "2023-11-10T15:57:37.289322Z",
     "shell.execute_reply": "2023-11-10T15:57:37.288156Z"
    },
    "papermill": {
     "duration": 0.046082,
     "end_time": "2023-11-10T15:57:37.292287",
     "exception": false,
     "start_time": "2023-11-10T15:57:37.246205",
     "status": "completed"
    },
    "tags": []
   },
   "outputs": [
    {
     "data": {
      "text/html": [
       "<div>\n",
       "<style scoped>\n",
       "    .dataframe tbody tr th:only-of-type {\n",
       "        vertical-align: middle;\n",
       "    }\n",
       "\n",
       "    .dataframe tbody tr th {\n",
       "        vertical-align: top;\n",
       "    }\n",
       "\n",
       "    .dataframe thead th {\n",
       "        text-align: right;\n",
       "    }\n",
       "</style>\n",
       "<table border=\"1\" class=\"dataframe\">\n",
       "  <thead>\n",
       "    <tr style=\"text-align: right;\">\n",
       "      <th></th>\n",
       "      <th>Frequency</th>\n",
       "      <th>CustGender</th>\n",
       "      <th>CustLocation</th>\n",
       "      <th>CustAccountBalance</th>\n",
       "      <th>TransactionAmount (INR)</th>\n",
       "      <th>CustomerAge</th>\n",
       "      <th>TransactionDate</th>\n",
       "      <th>Recency</th>\n",
       "    </tr>\n",
       "  </thead>\n",
       "  <tbody>\n",
       "    <tr>\n",
       "      <th>0</th>\n",
       "      <td>2</td>\n",
       "      <td>0</td>\n",
       "      <td>5632</td>\n",
       "      <td>76340.635</td>\n",
       "      <td>2553.0</td>\n",
       "      <td>33</td>\n",
       "      <td>2016-09-17</td>\n",
       "      <td>18</td>\n",
       "    </tr>\n",
       "    <tr>\n",
       "      <th>1</th>\n",
       "      <td>1</td>\n",
       "      <td>1</td>\n",
       "      <td>5040</td>\n",
       "      <td>24204.490</td>\n",
       "      <td>1499.0</td>\n",
       "      <td>22</td>\n",
       "      <td>2016-08-14</td>\n",
       "      <td>0</td>\n",
       "    </tr>\n",
       "    <tr>\n",
       "      <th>2</th>\n",
       "      <td>2</td>\n",
       "      <td>0</td>\n",
       "      <td>5040</td>\n",
       "      <td>100112.950</td>\n",
       "      <td>727.5</td>\n",
       "      <td>32</td>\n",
       "      <td>2016-04-08</td>\n",
       "      <td>182</td>\n",
       "    </tr>\n",
       "    <tr>\n",
       "      <th>3</th>\n",
       "      <td>1</td>\n",
       "      <td>0</td>\n",
       "      <td>1452</td>\n",
       "      <td>496.180</td>\n",
       "      <td>30.0</td>\n",
       "      <td>26</td>\n",
       "      <td>2016-09-15</td>\n",
       "      <td>0</td>\n",
       "    </tr>\n",
       "    <tr>\n",
       "      <th>4</th>\n",
       "      <td>1</td>\n",
       "      <td>1</td>\n",
       "      <td>4087</td>\n",
       "      <td>87058.650</td>\n",
       "      <td>5000.0</td>\n",
       "      <td>-49</td>\n",
       "      <td>2016-08-18</td>\n",
       "      <td>0</td>\n",
       "    </tr>\n",
       "  </tbody>\n",
       "</table>\n",
       "</div>"
      ],
      "text/plain": [
       "   Frequency  CustGender  CustLocation  CustAccountBalance  \\\n",
       "0          2           0          5632           76340.635   \n",
       "1          1           1          5040           24204.490   \n",
       "2          2           0          5040          100112.950   \n",
       "3          1           0          1452             496.180   \n",
       "4          1           1          4087           87058.650   \n",
       "\n",
       "   TransactionAmount (INR)  CustomerAge TransactionDate  Recency  \n",
       "0                   2553.0           33      2016-09-17       18  \n",
       "1                   1499.0           22      2016-08-14        0  \n",
       "2                    727.5           32      2016-04-08      182  \n",
       "3                     30.0           26      2016-09-15        0  \n",
       "4                   5000.0          -49      2016-08-18        0  "
      ]
     },
     "execution_count": 34,
     "metadata": {},
     "output_type": "execute_result"
    }
   ],
   "source": [
    "RMF_data.reset_index(drop=True, inplace=True)\n",
    "RMF_data.head()"
   ]
  },
  {
   "cell_type": "code",
   "execution_count": 35,
   "id": "e9b42632",
   "metadata": {
    "execution": {
     "iopub.execute_input": "2023-11-10T15:57:37.344102Z",
     "iopub.status.busy": "2023-11-10T15:57:37.343311Z",
     "iopub.status.idle": "2023-11-10T15:57:37.559694Z",
     "shell.execute_reply": "2023-11-10T15:57:37.558121Z"
    },
    "papermill": {
     "duration": 0.246669,
     "end_time": "2023-11-10T15:57:37.563247",
     "exception": false,
     "start_time": "2023-11-10T15:57:37.316578",
     "status": "completed"
    },
    "tags": []
   },
   "outputs": [],
   "source": [
    "minmax = MinMaxScaler()\n",
    "standard_scaler = StandardScaler()\n",
    "RMF_scaled = RMF_data.copy()\n",
    "RMF_scaled[[\"Frequency\", \"CustGender\", \"Recency\", \"CustLocation\"]]=minmax.fit_transform(RMF_data[[\"Frequency\", \"CustGender\", \"Recency\", \"CustLocation\"]])\n",
    "RMF_scaled[[\"CustAccountBalance\", \"TransactionAmount (INR)\", \"CustomerAge\"]] = standard_scaler.fit_transform(RMF_data[[\"CustAccountBalance\", \"TransactionAmount (INR)\", \"CustomerAge\"]])"
   ]
  },
  {
   "cell_type": "code",
   "execution_count": 36,
   "id": "ee549858",
   "metadata": {
    "execution": {
     "iopub.execute_input": "2023-11-10T15:57:37.611161Z",
     "iopub.status.busy": "2023-11-10T15:57:37.610775Z",
     "iopub.status.idle": "2023-11-10T15:57:37.628297Z",
     "shell.execute_reply": "2023-11-10T15:57:37.626999Z"
    },
    "papermill": {
     "duration": 0.04502,
     "end_time": "2023-11-10T15:57:37.631185",
     "exception": false,
     "start_time": "2023-11-10T15:57:37.586165",
     "status": "completed"
    },
    "tags": []
   },
   "outputs": [
    {
     "data": {
      "text/html": [
       "<div>\n",
       "<style scoped>\n",
       "    .dataframe tbody tr th:only-of-type {\n",
       "        vertical-align: middle;\n",
       "    }\n",
       "\n",
       "    .dataframe tbody tr th {\n",
       "        vertical-align: top;\n",
       "    }\n",
       "\n",
       "    .dataframe thead th {\n",
       "        text-align: right;\n",
       "    }\n",
       "</style>\n",
       "<table border=\"1\" class=\"dataframe\">\n",
       "  <thead>\n",
       "    <tr style=\"text-align: right;\">\n",
       "      <th></th>\n",
       "      <th>Frequency</th>\n",
       "      <th>CustGender</th>\n",
       "      <th>CustLocation</th>\n",
       "      <th>CustAccountBalance</th>\n",
       "      <th>TransactionAmount (INR)</th>\n",
       "      <th>CustomerAge</th>\n",
       "      <th>TransactionDate</th>\n",
       "      <th>Recency</th>\n",
       "    </tr>\n",
       "  </thead>\n",
       "  <tbody>\n",
       "    <tr>\n",
       "      <th>0</th>\n",
       "      <td>0.2</td>\n",
       "      <td>0.0</td>\n",
       "      <td>0.629414</td>\n",
       "      <td>-0.047814</td>\n",
       "      <td>0.153270</td>\n",
       "      <td>-0.061837</td>\n",
       "      <td>2016-09-17</td>\n",
       "      <td>0.053571</td>\n",
       "    </tr>\n",
       "    <tr>\n",
       "      <th>1</th>\n",
       "      <td>0.0</td>\n",
       "      <td>0.5</td>\n",
       "      <td>0.563254</td>\n",
       "      <td>-0.112925</td>\n",
       "      <td>-0.010587</td>\n",
       "      <td>-0.276449</td>\n",
       "      <td>2016-08-14</td>\n",
       "      <td>0.000000</td>\n",
       "    </tr>\n",
       "    <tr>\n",
       "      <th>2</th>\n",
       "      <td>0.2</td>\n",
       "      <td>0.0</td>\n",
       "      <td>0.563254</td>\n",
       "      <td>-0.018126</td>\n",
       "      <td>-0.130526</td>\n",
       "      <td>-0.081348</td>\n",
       "      <td>2016-04-08</td>\n",
       "      <td>0.541667</td>\n",
       "    </tr>\n",
       "    <tr>\n",
       "      <th>3</th>\n",
       "      <td>0.0</td>\n",
       "      <td>0.0</td>\n",
       "      <td>0.162271</td>\n",
       "      <td>-0.142533</td>\n",
       "      <td>-0.238961</td>\n",
       "      <td>-0.198408</td>\n",
       "      <td>2016-09-15</td>\n",
       "      <td>0.000000</td>\n",
       "    </tr>\n",
       "    <tr>\n",
       "      <th>4</th>\n",
       "      <td>0.0</td>\n",
       "      <td>0.5</td>\n",
       "      <td>0.456750</td>\n",
       "      <td>-0.034429</td>\n",
       "      <td>0.533687</td>\n",
       "      <td>-1.661667</td>\n",
       "      <td>2016-08-18</td>\n",
       "      <td>0.000000</td>\n",
       "    </tr>\n",
       "  </tbody>\n",
       "</table>\n",
       "</div>"
      ],
      "text/plain": [
       "   Frequency  CustGender  CustLocation  CustAccountBalance  \\\n",
       "0        0.2         0.0      0.629414           -0.047814   \n",
       "1        0.0         0.5      0.563254           -0.112925   \n",
       "2        0.2         0.0      0.563254           -0.018126   \n",
       "3        0.0         0.0      0.162271           -0.142533   \n",
       "4        0.0         0.5      0.456750           -0.034429   \n",
       "\n",
       "   TransactionAmount (INR)  CustomerAge TransactionDate   Recency  \n",
       "0                 0.153270    -0.061837      2016-09-17  0.053571  \n",
       "1                -0.010587    -0.276449      2016-08-14  0.000000  \n",
       "2                -0.130526    -0.081348      2016-04-08  0.541667  \n",
       "3                -0.238961    -0.198408      2016-09-15  0.000000  \n",
       "4                 0.533687    -1.661667      2016-08-18  0.000000  "
      ]
     },
     "execution_count": 36,
     "metadata": {},
     "output_type": "execute_result"
    }
   ],
   "source": [
    "RMF_scaled.head()"
   ]
  },
  {
   "cell_type": "code",
   "execution_count": 37,
   "id": "ad35264d",
   "metadata": {
    "execution": {
     "iopub.execute_input": "2023-11-10T15:57:37.678671Z",
     "iopub.status.busy": "2023-11-10T15:57:37.678197Z",
     "iopub.status.idle": "2023-11-10T15:57:37.709403Z",
     "shell.execute_reply": "2023-11-10T15:57:37.707650Z"
    },
    "papermill": {
     "duration": 0.058697,
     "end_time": "2023-11-10T15:57:37.712324",
     "exception": false,
     "start_time": "2023-11-10T15:57:37.653627",
     "status": "completed"
    },
    "tags": []
   },
   "outputs": [],
   "source": [
    "RMF_scaled.drop(columns=[\"TransactionDate\"],inplace=True)"
   ]
  },
  {
   "cell_type": "code",
   "execution_count": 38,
   "id": "5db4c999",
   "metadata": {
    "execution": {
     "iopub.execute_input": "2023-11-10T15:57:37.758900Z",
     "iopub.status.busy": "2023-11-10T15:57:37.758410Z",
     "iopub.status.idle": "2023-11-10T15:57:37.776167Z",
     "shell.execute_reply": "2023-11-10T15:57:37.774898Z"
    },
    "papermill": {
     "duration": 0.044186,
     "end_time": "2023-11-10T15:57:37.778623",
     "exception": false,
     "start_time": "2023-11-10T15:57:37.734437",
     "status": "completed"
    },
    "tags": []
   },
   "outputs": [
    {
     "data": {
      "text/html": [
       "<div>\n",
       "<style scoped>\n",
       "    .dataframe tbody tr th:only-of-type {\n",
       "        vertical-align: middle;\n",
       "    }\n",
       "\n",
       "    .dataframe tbody tr th {\n",
       "        vertical-align: top;\n",
       "    }\n",
       "\n",
       "    .dataframe thead th {\n",
       "        text-align: right;\n",
       "    }\n",
       "</style>\n",
       "<table border=\"1\" class=\"dataframe\">\n",
       "  <thead>\n",
       "    <tr style=\"text-align: right;\">\n",
       "      <th></th>\n",
       "      <th>Frequency</th>\n",
       "      <th>CustGender</th>\n",
       "      <th>CustLocation</th>\n",
       "      <th>CustAccountBalance</th>\n",
       "      <th>TransactionAmount (INR)</th>\n",
       "      <th>CustomerAge</th>\n",
       "      <th>Recency</th>\n",
       "    </tr>\n",
       "  </thead>\n",
       "  <tbody>\n",
       "    <tr>\n",
       "      <th>0</th>\n",
       "      <td>0.2</td>\n",
       "      <td>0.0</td>\n",
       "      <td>0.629414</td>\n",
       "      <td>-0.047814</td>\n",
       "      <td>0.153270</td>\n",
       "      <td>-0.061837</td>\n",
       "      <td>0.053571</td>\n",
       "    </tr>\n",
       "    <tr>\n",
       "      <th>1</th>\n",
       "      <td>0.0</td>\n",
       "      <td>0.5</td>\n",
       "      <td>0.563254</td>\n",
       "      <td>-0.112925</td>\n",
       "      <td>-0.010587</td>\n",
       "      <td>-0.276449</td>\n",
       "      <td>0.000000</td>\n",
       "    </tr>\n",
       "    <tr>\n",
       "      <th>2</th>\n",
       "      <td>0.2</td>\n",
       "      <td>0.0</td>\n",
       "      <td>0.563254</td>\n",
       "      <td>-0.018126</td>\n",
       "      <td>-0.130526</td>\n",
       "      <td>-0.081348</td>\n",
       "      <td>0.541667</td>\n",
       "    </tr>\n",
       "    <tr>\n",
       "      <th>3</th>\n",
       "      <td>0.0</td>\n",
       "      <td>0.0</td>\n",
       "      <td>0.162271</td>\n",
       "      <td>-0.142533</td>\n",
       "      <td>-0.238961</td>\n",
       "      <td>-0.198408</td>\n",
       "      <td>0.000000</td>\n",
       "    </tr>\n",
       "    <tr>\n",
       "      <th>4</th>\n",
       "      <td>0.0</td>\n",
       "      <td>0.5</td>\n",
       "      <td>0.456750</td>\n",
       "      <td>-0.034429</td>\n",
       "      <td>0.533687</td>\n",
       "      <td>-1.661667</td>\n",
       "      <td>0.000000</td>\n",
       "    </tr>\n",
       "  </tbody>\n",
       "</table>\n",
       "</div>"
      ],
      "text/plain": [
       "   Frequency  CustGender  CustLocation  CustAccountBalance  \\\n",
       "0        0.2         0.0      0.629414           -0.047814   \n",
       "1        0.0         0.5      0.563254           -0.112925   \n",
       "2        0.2         0.0      0.563254           -0.018126   \n",
       "3        0.0         0.0      0.162271           -0.142533   \n",
       "4        0.0         0.5      0.456750           -0.034429   \n",
       "\n",
       "   TransactionAmount (INR)  CustomerAge   Recency  \n",
       "0                 0.153270    -0.061837  0.053571  \n",
       "1                -0.010587    -0.276449  0.000000  \n",
       "2                -0.130526    -0.081348  0.541667  \n",
       "3                -0.238961    -0.198408  0.000000  \n",
       "4                 0.533687    -1.661667  0.000000  "
      ]
     },
     "execution_count": 38,
     "metadata": {},
     "output_type": "execute_result"
    }
   ],
   "source": [
    "RMF_scaled.head()"
   ]
  },
  {
   "cell_type": "code",
   "execution_count": 39,
   "id": "a1a42c9c",
   "metadata": {
    "execution": {
     "iopub.execute_input": "2023-11-10T15:57:37.829992Z",
     "iopub.status.busy": "2023-11-10T15:57:37.829404Z",
     "iopub.status.idle": "2023-11-10T15:57:37.904780Z",
     "shell.execute_reply": "2023-11-10T15:57:37.903070Z"
    },
    "papermill": {
     "duration": 0.104557,
     "end_time": "2023-11-10T15:57:37.907797",
     "exception": false,
     "start_time": "2023-11-10T15:57:37.803240",
     "status": "completed"
    },
    "tags": []
   },
   "outputs": [
    {
     "data": {
      "text/html": [
       "<div>\n",
       "<style scoped>\n",
       "    .dataframe tbody tr th:only-of-type {\n",
       "        vertical-align: middle;\n",
       "    }\n",
       "\n",
       "    .dataframe tbody tr th {\n",
       "        vertical-align: top;\n",
       "    }\n",
       "\n",
       "    .dataframe thead th {\n",
       "        text-align: right;\n",
       "    }\n",
       "</style>\n",
       "<table border=\"1\" class=\"dataframe\">\n",
       "  <thead>\n",
       "    <tr style=\"text-align: right;\">\n",
       "      <th></th>\n",
       "      <th>Frequency</th>\n",
       "      <th>CustGender</th>\n",
       "      <th>CustLocation</th>\n",
       "      <th>CustAccountBalance</th>\n",
       "      <th>TransactionAmount (INR)</th>\n",
       "      <th>CustomerAge</th>\n",
       "      <th>Recency</th>\n",
       "    </tr>\n",
       "  </thead>\n",
       "  <tbody>\n",
       "    <tr>\n",
       "      <th>0</th>\n",
       "      <td>0.0</td>\n",
       "      <td>0.5</td>\n",
       "      <td>0.329459</td>\n",
       "      <td>-0.115036</td>\n",
       "      <td>-0.184550</td>\n",
       "      <td>-0.198408</td>\n",
       "      <td>0.000000</td>\n",
       "    </tr>\n",
       "    <tr>\n",
       "      <th>1</th>\n",
       "      <td>0.0</td>\n",
       "      <td>0.5</td>\n",
       "      <td>0.629414</td>\n",
       "      <td>-0.141870</td>\n",
       "      <td>-0.228390</td>\n",
       "      <td>-0.042327</td>\n",
       "      <td>0.000000</td>\n",
       "    </tr>\n",
       "    <tr>\n",
       "      <th>2</th>\n",
       "      <td>0.4</td>\n",
       "      <td>0.5</td>\n",
       "      <td>0.830577</td>\n",
       "      <td>-0.117108</td>\n",
       "      <td>-0.194914</td>\n",
       "      <td>-0.159388</td>\n",
       "      <td>0.672619</td>\n",
       "    </tr>\n",
       "    <tr>\n",
       "      <th>3</th>\n",
       "      <td>0.0</td>\n",
       "      <td>0.0</td>\n",
       "      <td>0.171323</td>\n",
       "      <td>-0.121612</td>\n",
       "      <td>-0.212533</td>\n",
       "      <td>-0.315469</td>\n",
       "      <td>0.000000</td>\n",
       "    </tr>\n",
       "    <tr>\n",
       "      <th>4</th>\n",
       "      <td>0.0</td>\n",
       "      <td>0.0</td>\n",
       "      <td>0.234242</td>\n",
       "      <td>-0.132974</td>\n",
       "      <td>-0.181440</td>\n",
       "      <td>-0.256939</td>\n",
       "      <td>0.000000</td>\n",
       "    </tr>\n",
       "  </tbody>\n",
       "</table>\n",
       "</div>"
      ],
      "text/plain": [
       "   Frequency  CustGender  CustLocation  CustAccountBalance  \\\n",
       "0        0.0         0.5      0.329459           -0.115036   \n",
       "1        0.0         0.5      0.629414           -0.141870   \n",
       "2        0.4         0.5      0.830577           -0.117108   \n",
       "3        0.0         0.0      0.171323           -0.121612   \n",
       "4        0.0         0.0      0.234242           -0.132974   \n",
       "\n",
       "   TransactionAmount (INR)  CustomerAge   Recency  \n",
       "0                -0.184550    -0.198408  0.000000  \n",
       "1                -0.228390    -0.042327  0.000000  \n",
       "2                -0.194914    -0.159388  0.672619  \n",
       "3                -0.212533    -0.315469  0.000000  \n",
       "4                -0.181440    -0.256939  0.000000  "
      ]
     },
     "execution_count": 39,
     "metadata": {},
     "output_type": "execute_result"
    }
   ],
   "source": [
    "RMF_scaled=RMF_scaled.sample(n=7500,random_state=69).reset_index(drop=True)\n",
    "RMF_scaled.head()"
   ]
  },
  {
   "cell_type": "code",
   "execution_count": 40,
   "id": "101a3bbb",
   "metadata": {
    "execution": {
     "iopub.execute_input": "2023-11-10T15:57:37.957868Z",
     "iopub.status.busy": "2023-11-10T15:57:37.957360Z",
     "iopub.status.idle": "2023-11-10T15:57:38.433382Z",
     "shell.execute_reply": "2023-11-10T15:57:38.431565Z"
    },
    "papermill": {
     "duration": 0.505096,
     "end_time": "2023-11-10T15:57:38.436585",
     "exception": false,
     "start_time": "2023-11-10T15:57:37.931489",
     "status": "completed"
    },
    "tags": []
   },
   "outputs": [
    {
     "data": {
      "image/png": "[encoded data removed]",
      "text/plain": [
       "<Figure size 800x550 with 1 Axes>"
      ]
     },
     "metadata": {},
     "output_type": "display_data"
    }
   ],
   "source": [
    "trial_pca=PCA(n_components=4)\n",
    "trial_pca.fit(RMF_scaled)\n",
    "test=trial_pca.transform(RMF_scaled)\n",
    "plt.plot(list(trial_pca.explained_variance_ratio_), '-o')\n",
    "plt.title('Explained variance ratio as function of PCA component')\n",
    "plt.ylabel('Explained variance ratio')\n",
    "plt.xlabel('Component')\n",
    "plt.show()"
   ]
  },
  {
   "cell_type": "code",
   "execution_count": 41,
   "id": "f9f98149",
   "metadata": {
    "execution": {
     "iopub.execute_input": "2023-11-10T15:57:38.488925Z",
     "iopub.status.busy": "2023-11-10T15:57:38.488368Z",
     "iopub.status.idle": "2023-11-10T15:57:38.882735Z",
     "shell.execute_reply": "2023-11-10T15:57:38.881005Z"
    },
    "papermill": {
     "duration": 0.42372,
     "end_time": "2023-11-10T15:57:38.886110",
     "exception": false,
     "start_time": "2023-11-10T15:57:38.462390",
     "status": "completed"
    },
    "tags": []
   },
   "outputs": [
    {
     "data": {
      "image/png": "[encoded data removed]",
      "text/plain": [
       "<Figure size 800x550 with 1 Axes>"
      ]
     },
     "metadata": {},
     "output_type": "display_data"
    }
   ],
   "source": [
    "trial_pca=PCA(n_components=2)\n",
    "trial_pca.fit(RMF_scaled)\n",
    "test=trial_pca.transform(RMF_scaled)\n",
    "plt.plot(list(trial_pca.explained_variance_ratio_), '-o')\n",
    "plt.title('Explained variance ratio as function of PCA component')\n",
    "plt.ylabel('Explained variance ratio')\n",
    "plt.xlabel('Component')\n",
    "plt.show()"
   ]
  },
  {
   "cell_type": "code",
   "execution_count": 42,
   "id": "6de1fea7",
   "metadata": {
    "execution": {
     "iopub.execute_input": "2023-11-10T15:57:38.942989Z",
     "iopub.status.busy": "2023-11-10T15:57:38.942083Z",
     "iopub.status.idle": "2023-11-10T15:57:39.381506Z",
     "shell.execute_reply": "2023-11-10T15:57:39.380207Z"
    },
    "papermill": {
     "duration": 0.473022,
     "end_time": "2023-11-10T15:57:39.385088",
     "exception": false,
     "start_time": "2023-11-10T15:57:38.912066",
     "status": "completed"
    },
    "tags": []
   },
   "outputs": [
    {
     "data": {
      "image/png": "[encoded data removed]",
      "text/plain": [
       "<Figure size 800x550 with 1 Axes>"
      ]
     },
     "metadata": {},
     "output_type": "display_data"
    }
   ],
   "source": [
    "trial_pca=PCA(n_components=3)\n",
    "trial_pca.fit(RMF_scaled)\n",
    "test=trial_pca.transform(RMF_scaled)\n",
    "plt.plot(list(trial_pca.explained_variance_ratio_), '-o')\n",
    "plt.title('Explained variance ratio as function of PCA component')\n",
    "plt.ylabel('Explained variance ratio')\n",
    "plt.xlabel('Component')\n",
    "plt.show()"
   ]
  },
  {
   "cell_type": "code",
   "execution_count": 43,
   "id": "57159b39",
   "metadata": {
    "execution": {
     "iopub.execute_input": "2023-11-10T15:57:39.441291Z",
     "iopub.status.busy": "2023-11-10T15:57:39.440851Z",
     "iopub.status.idle": "2023-11-10T15:57:39.485278Z",
     "shell.execute_reply": "2023-11-10T15:57:39.483774Z"
    },
    "papermill": {
     "duration": 0.078253,
     "end_time": "2023-11-10T15:57:39.490497",
     "exception": false,
     "start_time": "2023-11-10T15:57:39.412244",
     "status": "completed"
    },
    "tags": []
   },
   "outputs": [],
   "source": [
    "RMF_pca=PCA(n_components=3)\n",
    "reduced_features=RMF_pca.fit_transform(RMF_scaled)\n",
    "X_principal=pd.DataFrame(reduced_features)\n",
    "X_principal.columns=['P1','P2','P3']"
   ]
  },
  {
   "cell_type": "code",
   "execution_count": 44,
   "id": "5d144ff7",
   "metadata": {
    "execution": {
     "iopub.execute_input": "2023-11-10T15:57:39.625790Z",
     "iopub.status.busy": "2023-11-10T15:57:39.625328Z",
     "iopub.status.idle": "2023-11-10T15:57:59.346759Z",
     "shell.execute_reply": "2023-11-10T15:57:59.345111Z"
    },
    "papermill": {
     "duration": 19.756508,
     "end_time": "2023-11-10T15:57:59.351338",
     "exception": false,
     "start_time": "2023-11-10T15:57:39.594830",
     "status": "completed"
    },
    "tags": []
   },
   "outputs": [],
   "source": [
    "WCSS = []\n",
    "silh_scores_kmeans = []\n",
    "db_scores_kmeans = []\n",
    "for n_cluster in range(2, 11):\n",
    "\n",
    "    model_kmeans = KMeans(n_clusters=n_cluster, n_init=10)\n",
    "    model_kmeans.fit(reduced_features)\n",
    "    WCSS.append(model_kmeans.inertia_)\n",
    "    silh_scores_kmeans.append( silhouette_score (reduced_features, model_kmeans.labels_))\n",
    "\n",
    "    db_scores_kmeans.append( davies_bouldin_score (reduced_features, model_kmeans.labels_))"
   ]
  },
  {
   "cell_type": "code",
   "execution_count": 45,
   "id": "8b50c795",
   "metadata": {
    "execution": {
     "iopub.execute_input": "2023-11-10T15:57:59.463589Z",
     "iopub.status.busy": "2023-11-10T15:57:59.461907Z",
     "iopub.status.idle": "2023-11-10T15:57:59.470115Z",
     "shell.execute_reply": "2023-11-10T15:57:59.468979Z"
    },
    "papermill": {
     "duration": 0.066564,
     "end_time": "2023-11-10T15:57:59.472619",
     "exception": false,
     "start_time": "2023-11-10T15:57:59.406055",
     "status": "completed"
    },
    "tags": []
   },
   "outputs": [
    {
     "data": {
      "text/plain": [
       "[0.8460786509416867,\n",
       " 0.8467251573096413,\n",
       " 0.8524933016827624,\n",
       " 0.7652189627840671,\n",
       " 0.7780271768427165,\n",
       " 0.7801099997831974,\n",
       " 0.7882039503080371,\n",
       " 0.7918674714629905,\n",
       " 0.6919293101405656]"
      ]
     },
     "execution_count": 45,
     "metadata": {},
     "output_type": "execute_result"
    }
   ],
   "source": [
    "silh_scores_kmeans"
   ]
  },
  {
   "cell_type": "code",
   "execution_count": 46,
   "id": "50bd9be9",
   "metadata": {
    "execution": {
     "iopub.execute_input": "2023-11-10T15:57:59.529772Z",
     "iopub.status.busy": "2023-11-10T15:57:59.529304Z",
     "iopub.status.idle": "2023-11-10T15:57:59.872607Z",
     "shell.execute_reply": "2023-11-10T15:57:59.870976Z"
    },
    "papermill": {
     "duration": 0.374992,
     "end_time": "2023-11-10T15:57:59.875550",
     "exception": false,
     "start_time": "2023-11-10T15:57:59.500558",
     "status": "completed"
    },
    "tags": []
   },
   "outputs": [
    {
     "data": {
      "text/plain": [
       "<matplotlib.lines.Line2D at 0x784329f5ac80>"
      ]
     },
     "execution_count": 46,
     "metadata": {},
     "output_type": "execute_result"
    },
    {
     "data": {
      "image/png": "[encoded data removed]",
      "text/plain": [
       "<Figure size 800x550 with 1 Axes>"
      ]
     },
     "metadata": {},
     "output_type": "display_data"
    }
   ],
   "source": [
    "plt.style.use(\"fivethirtyeight\") #fig, ax-plt.subplots(1,2, figsize=(20,5))\n",
    "\n",
    "kl= KneeLocator(range(2,11), WCSS, curve='convex', direction=\"decreasing\")\n",
    "plt.plot(range(2,11), WCSS, color='purple', marker='o', label='Elbow Method')\n",
    "plt.xticks(range(2,11))\n",
    "plt.xlabel(\"Number of Clusters\", labelpad=20)\n",
    "plt.ylabel(\"Inertia\", labelpad=20)\n",
    "plt.title(\"Elbow Method\")\n",
    "plt.axvline(x=kl.elbow, color='black', label='axvline-fullheight', ls='--', linewidth=3)"
   ]
  }
 ],
 "metadata": {
  "kernelspec": {
   "display_name": "Python 3",
   "language": "python",
   "name": "python3"
  },
  "language_info": {
   "codemirror_mode": {
    "name": "ipython",
    "version": 3
   },
   "file_extension": ".py",
   "mimetype": "text/x-python",
   "name": "python",
   "nbconvert_exporter": "python",
   "pygments_lexer": "ipython3",
   "version": "3.10.12"
  },
  "papermill": {
   "default_parameters": {},
   "duration": 163.810991,
   "end_time": "2023-11-10T15:58:01.032498",
   "environment_variables": {},
   "exception": null,
   "input_path": "__notebook__.ipynb",
   "output_path": "__notebook__.ipynb",
   "parameters": {},
   "start_time": "2023-11-10T15:55:17.221507",
   "version": "2.4.0"
  }
 },
 "nbformat": 4,
 "nbformat_minor": 5
}
